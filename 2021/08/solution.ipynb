{
 "cells": [
  {
   "cell_type": "code",
   "execution_count": 1,
   "metadata": {},
   "outputs": [
    {
     "name": "stdout",
     "output_type": "stream",
     "text": [
      "\u001b[0maoc-cli 0.6.0\n",
      "\u001b[0mLoaded session cookie from \"/home/kev/.adventofcode.session\".\n",
      "Fetching puzzle for day 8, 2021...\n",
      "Saving puzzle description to \"README.md\"...\n",
      "Downloading input for day 8, 2021...\n",
      "Saving puzzle input to \"input.txt\"...\n",
      "Done!\n"
     ]
    }
   ],
   "source": [
    "import os\n",
    "import sys\n",
    "import statistics\n",
    "\n",
    "aoc_year, aoc_day = os.getcwd().split(os.sep)[-2:]\n",
    "\n",
    "# Download today puzzle & input\n",
    "!aoc --version\n",
    "!aoc download -i input.txt --overwrite -p README.md --year {aoc_year} --day {aoc_day}"
   ]
  },
  {
   "cell_type": "markdown",
   "metadata": {},
   "source": [
    "\\--- Day 8: Seven Segment Search ---\n",
    "----------\n",
    "\n",
    "You barely reach the safety of the cave when the whale smashes into the cave mouth, collapsing it. Sensors indicate another exit to this cave at a much greater depth, so you have no choice but to press on.\n",
    "\n",
    "As your submarine slowly makes its way through the cave system, you notice that the four-digit [seven-segment displays](https://en.wikipedia.org/wiki/Seven-segment_display) in your submarine are malfunctioning; they must have been damaged during the escape. You'll be in a lot of trouble without them, so you'd better figure out what's wrong.\n",
    "\n",
    "Each digit of a seven-segment display is rendered by turning on or off any of seven segments named `a` through `g`:\n",
    "\n",
    "```\n",
    "  0:      1:      2:      3:      4:\n",
    " aaaa    ....    aaaa    aaaa    ....\n",
    "b    c  .    c  .    c  .    c  b    c\n",
    "b    c  .    c  .    c  .    c  b    c\n",
    " ....    ....    dddd    dddd    dddd\n",
    "e    f  .    f  e    .  .    f  .    f\n",
    "e    f  .    f  e    .  .    f  .    f\n",
    " gggg    ....    gggg    gggg    ....\n",
    "\n",
    "  5:      6:      7:      8:      9:\n",
    " aaaa    aaaa    aaaa    aaaa    aaaa\n",
    "b    .  b    .  .    c  b    c  b    c\n",
    "b    .  b    .  .    c  b    c  b    c\n",
    " dddd    dddd    ....    dddd    dddd\n",
    ".    f  e    f  .    f  e    f  .    f\n",
    ".    f  e    f  .    f  e    f  .    f\n",
    " gggg    gggg    ....    gggg    gggg\n",
    "\n",
    "```\n",
    "\n",
    "So, to render a `1`, only segments `c` and `f` would be turned on; the rest would be off. To render a `7`, only segments `a`, `c`, and `f` would be turned on.\n",
    "\n",
    "The problem is that the signals which control the segments have been mixed up on each display. The submarine is still trying to display numbers by producing output on signal wires `a` through `g`, but those wires are connected to segments *randomly*. Worse, the wire/segment connections are mixed up separately for each four-digit display! (All of the digits *within* a display use the same connections, though.)\n",
    "\n",
    "So, you might know that only signal wires `b` and `g` are turned on, but that doesn't mean *segments* `b` and `g` are turned on: the only digit that uses two segments is `1`, so it must mean segments `c` and `f` are meant to be on. With just that information, you still can't tell which wire (`b`/`g`) goes to which segment (`c`/`f`). For that, you'll need to collect more information.\n",
    "\n",
    "For each display, you watch the changing signals for a while, make a note of *all ten unique signal patterns* you see, and then write down a single *four digit output value* (your puzzle input). Using the signal patterns, you should be able to work out which pattern corresponds to which digit.\n",
    "\n",
    "For example, here is what you might see in a single entry in your notes:\n",
    "\n",
    "```\n",
    "acedgfb cdfbe gcdfa fbcad dab cefabd cdfgeb eafb cagedb ab |\n",
    "cdfeb fcadb cdfeb cdbaf\n",
    "```\n",
    "\n",
    "(The entry is wrapped here to two lines so it fits; in your notes, it will all be on a single line.)\n",
    "\n",
    "Each entry consists of ten *unique signal patterns*, a `|` delimiter, and finally the *four digit output value*. Within an entry, the same wire/segment connections are used (but you don't know what the connections actually are). The unique signal patterns correspond to the ten different ways the submarine tries to render a digit using the current wire/segment connections. Because `7` is the only digit that uses three segments, `dab` in the above example means that to render a `7`, signal lines `d`, `a`, and `b` are on. Because `4` is the only digit that uses four segments, `eafb` means that to render a `4`, signal lines `e`, `a`, `f`, and `b` are on.\n",
    "\n",
    "Using this information, you should be able to work out which combination of signal wires corresponds to each of the ten digits. Then, you can decode the four digit output value. Unfortunately, in the above example, all of the digits in the output value (`cdfeb fcadb cdfeb cdbaf`) use five segments and are more difficult to deduce.\n",
    "\n",
    "For now, *focus on the easy digits*. Consider this larger example:\n",
    "\n",
    "```\n",
    "be cfbegad cbdgef fgaecd cgeb fdcge agebfd fecdb fabcd edb |\n",
    "fdgacbe cefdb cefbgd gcbe\n",
    "edbfga begcd cbg gc gcadebf fbgde acbgfd abcde gfcbed gfec |\n",
    "fcgedb cgb dgebacf gc\n",
    "fgaebd cg bdaec gdafb agbcfd gdcbef bgcad gfac gcb cdgabef |\n",
    "cg cg fdcagb cbg\n",
    "fbegcd cbd adcefb dageb afcb bc aefdc ecdab fgdeca fcdbega |\n",
    "efabcd cedba gadfec cb\n",
    "aecbfdg fbg gf bafeg dbefa fcge gcbea fcaegb dgceab fcbdga |\n",
    "gecf egdcabf bgf bfgea\n",
    "fgeab ca afcebg bdacfeg cfaedg gcfdb baec bfadeg bafgc acf |\n",
    "gebdcfa ecba ca fadegcb\n",
    "dbcfg fgd bdegcaf fgec aegbdf ecdfab fbedc dacgb gdcebf gf |\n",
    "cefg dcbef fcge gbcadfe\n",
    "bdfegc cbegaf gecbf dfcage bdacg ed bedf ced adcbefg gebcd |\n",
    "ed bcgafe cdgba cbgef\n",
    "egadfb cdbfeg cegd fecab cgb gbdefca cg fgcdab egfdb bfceg |\n",
    "gbdfcae bgc cg cgb\n",
    "gcafb gcf dcaebfg ecagb gf abcdeg gaef cafbge fdbac fegbdc |\n",
    "fgae cfgab fg bagce\n",
    "\n",
    "```\n",
    "\n",
    "Because the digits `1`, `4`, `7`, and `8` each use a unique number of segments, you should be able to tell which combinations of signals correspond to those digits. Counting *only digits in the output values* (the part after `|` on each line), in the above example, there are `*26*` instances of digits that use a unique number of segments (highlighted above).\n",
    "\n",
    "*In the output values, how many times do digits `1`, `4`, `7`, or `8` appear?*"
   ]
  },
  {
   "cell_type": "code",
   "execution_count": 2,
   "metadata": {},
   "outputs": [
    {
     "name": "stdout",
     "output_type": "stream",
     "text": [
      "['gbcefa eac acfbg ae dcabfg begcdaf ecgba fgaedc beaf gcbde | cbgfa gedcb '\n",
      " 'fgecab fbagdc',\n",
      " 'fb adceb febagd edgafcb cbfega gecadf dgfb dfeag baefd baf | gbdf gbfd '\n",
      " 'fgebac dfega',\n",
      " 'dgabec cfgeb cfb cefd cdabfg gbdce fc begdfc gfbea febacdg | bcfdaeg cf fc '\n",
      " 'gecabdf',\n",
      " 'gadfce acdgf bgaec gbfdca acgbd dceagfb agfdbe dbfc gbd bd | dgb cbadg cagdb '\n",
      " 'cfbd',\n",
      " 'edcbafg ab ecfdb dacfeg bcag aeb fgaebd bfecga eacgf bcaef | ba eab cdgefa '\n",
      " 'gcab',\n",
      " 'gbdcfea adfcge ebc be fegcbd ecfbad efgcd ebdg gacfb fcebg | cbgefd defcg '\n",
      " 'cbefdg eafgcdb']\n"
     ]
    }
   ],
   "source": [
    "from pprint import pprint\n",
    "\n",
    "with open('input.txt', 'rt') as f:\n",
    "    entries = [x.strip() for x in f.readlines()]\n",
    "\n",
    "# Verify parse\n",
    "pprint(entries[:6])"
   ]
  },
  {
   "cell_type": "code",
   "execution_count": 3,
   "metadata": {},
   "outputs": [
    {
     "name": "stdout",
     "output_type": "stream",
     "text": [
      "unique: {'1': 2, '4': 4, '7': 3, '8': 7}\n"
     ]
    }
   ],
   "source": [
    "sseg_by_count = {\n",
    "    \"1\": 2,\n",
    "    \"2\": 5,\n",
    "    \"3\": 5,\n",
    "    \"4\": 4,\n",
    "    \"5\": 5,\n",
    "    \"6\": 6,\n",
    "    \"7\": 3,\n",
    "    \"8\": 7,\n",
    "    \"9\": 6,\n",
    "    \"0\": 6,\n",
    "}\n",
    "unique_len = {k: v for k,v in sseg_by_count.items() if list(sseg_by_count.values()).count(v) == 1}\n",
    "print(\"unique:\", unique_len)\n"
   ]
  },
  {
   "cell_type": "code",
   "execution_count": 4,
   "metadata": {},
   "outputs": [],
   "source": [
    "count = 0\n",
    "for entry in entries:\n",
    "    input, output = entry.split(' | ')\n",
    "    digits = output.split()\n",
    "    for digit in digits:\n",
    "        wires = list(digit)\n",
    "        if len(wires) in unique_len.values():\n",
    "            count += 1\n",
    "\n",
    "answer1 = count"
   ]
  },
  {
   "cell_type": "code",
   "execution_count": 5,
   "metadata": {},
   "outputs": [
    {
     "name": "stdout",
     "output_type": "stream",
     "text": [
      "answer 1: 412\n"
     ]
    }
   ],
   "source": [
    "print(\"answer 1:\", answer1)"
   ]
  },
  {
   "cell_type": "markdown",
   "metadata": {},
   "source": [
    "----"
   ]
  },
  {
   "cell_type": "code",
   "execution_count": 6,
   "metadata": {},
   "outputs": [
    {
     "name": "stdout",
     "output_type": "stream",
     "text": [
      "Loaded session cookie from \"/home/kev/.adventofcode.session\".\n",
      "Fetching puzzle for day 8, 2021...\n",
      "Saving puzzle description to \"README.md\"...\n",
      "Done!\n"
     ]
    }
   ],
   "source": [
    "# Download part 2\n",
    "!aoc download --description-only --overwrite --puzzle-file README.md --year {aoc_year} --day {aoc_day}"
   ]
  },
  {
   "cell_type": "markdown",
   "metadata": {},
   "source": [
    "\\--- Part Two ---\n",
    "----------\n",
    "\n",
    "Through a little deduction, you should now be able to determine the remaining digits. Consider again the first example above:\n",
    "\n",
    "```\n",
    "acedgfb cdfbe gcdfa fbcad dab cefabd cdfgeb eafb cagedb ab |\n",
    "cdfeb fcadb cdfeb cdbaf\n",
    "```\n",
    "\n",
    "After some careful analysis, the mapping between signal wires and segments only make sense in the following configuration:\n",
    "\n",
    "```\n",
    " dddd\n",
    "e    a\n",
    "e    a\n",
    " ffff\n",
    "g    b\n",
    "g    b\n",
    " cccc\n",
    "\n",
    "```\n",
    "\n",
    "So, the unique signal patterns would correspond to the following digits:\n",
    "\n",
    "* `acedgfb`: `8`\n",
    "* `cdfbe`: `5`\n",
    "* `gcdfa`: `2`\n",
    "* `fbcad`: `3`\n",
    "* `dab`: `7`\n",
    "* `cefabd`: `9`\n",
    "* `cdfgeb`: `6`\n",
    "* `eafb`: `4`\n",
    "* `cagedb`: `0`\n",
    "* `ab`: `1`\n",
    "\n",
    "Then, the four digits of the output value can be decoded:\n",
    "\n",
    "* `cdfeb`: `*5*`\n",
    "* `fcadb`: `*3*`\n",
    "* `cdfeb`: `*5*`\n",
    "* `cdbaf`: `*3*`\n",
    "\n",
    "Therefore, the output value for this entry is `*5353*`.\n",
    "\n",
    "Following this same process for each entry in the second, larger example above, the output value of each entry can be determined:\n",
    "\n",
    "* `fdgacbe cefdb cefbgd gcbe`: `8394`\n",
    "* `fcgedb cgb dgebacf gc`: `9781`\n",
    "* `cg cg fdcagb cbg`: `1197`\n",
    "* `efabcd cedba gadfec cb`: `9361`\n",
    "* `gecf egdcabf bgf bfgea`: `4873`\n",
    "* `gebdcfa ecba ca fadegcb`: `8418`\n",
    "* `cefg dcbef fcge gbcadfe`: `4548`\n",
    "* `ed bcgafe cdgba cbgef`: `1625`\n",
    "* `gbdfcae bgc cg cgb`: `8717`\n",
    "* `fgae cfgab fg bagce`: `4315`\n",
    "\n",
    "Adding all of the output values in this larger example produces `*61229*`.\n",
    "\n",
    "For each entry, determine all of the wire/segment connections and decode the four-digit output values. *What do you get if you add up all of the output values?*"
   ]
  },
  {
   "cell_type": "code",
   "execution_count": 7,
   "metadata": {},
   "outputs": [],
   "source": [
    "import itertools\n",
    "\n",
    "# Expected wiring\n",
    "digit_wires = {\n",
    "    \"abcefg\":   \"0\",\n",
    "    \"cf\":       \"1\",\n",
    "    \"acdeg\":    \"2\",\n",
    "    \"acdfg\":    \"3\",\n",
    "    \"bcdf\":     \"4\",\n",
    "    \"abdfg\":    \"5\",\n",
    "    \"abdefg\":   \"6\",\n",
    "    \"acf\":      \"7\",\n",
    "    \"abcdefg\":  \"8\",\n",
    "    \"abcdfg\":   \"9\",\n",
    "}\n",
    "\n",
    "def translate(digits, mapping, verbose=False):\n",
    "    \"\"\"Apply a wiring map to a signal.\"\"\"\n",
    "    if verbose: print(\"digits:\", digits, \"mapping:\", mapping)\n",
    "    mapped = [list(x) for x in digits]\n",
    "    for x in range(len(mapped)):\n",
    "        for y in range(len(mapped[x])):\n",
    "            mapped[x][y] = mapping[digits[x][y]]\n",
    "\n",
    "    return [''.join(sorted(x)) for x in mapped]\n",
    "\n",
    "def brute_force(digits, target=digit_wires.keys(), verbose=False):\n",
    "    \"\"\"Finds a wiring map which results in 10 valid digits.\"\"\"\n",
    "    sseg = [chr(x) for x in range(ord('a'), ord('g')+1)]\n",
    "    # Iterate through all wiring combinations\n",
    "    for a,b,c,d,e,f,g in itertools.product(sseg, sseg, sseg, sseg, sseg, sseg, sseg):\n",
    "        # Early exit if duplicate wiring\n",
    "        if len(set([a,b,c,d,e,f,g])) < 7: continue\n",
    "        mapping = {'a': a, 'b': b, 'c': c, 'd': d, 'e': e, 'f': f, 'g': g}\n",
    "        # Re-wire the input with the mapping\n",
    "        mapped = translate(digits, mapping)\n",
    "        # Test the wiring against expected\n",
    "        if all([d in target for d in mapped]):\n",
    "            return mapping\n",
    "    assert False\n",
    "    \n",
    "def decode_digits(digits):\n",
    "    \"\"\"Lookup active wires against a decimal value.\"\"\"\n",
    "    return [digit_wires[d] for d in digits]\n",
    "\n",
    "# Validate solution against example\n",
    "mapping = brute_force(\"acedgfb cdfbe gcdfa fbcad dab cefabd cdfgeb eafb cagedb ab\".split(), verbose=False)\n",
    "digits = translate(\"cdfeb fcadb cdfeb cdbaf\".split(), mapping, verbose=False)\n",
    "assert decode_digits(digits) == ['5', '3', '5', '3']"
   ]
  },
  {
   "cell_type": "code",
   "execution_count": 8,
   "metadata": {},
   "outputs": [],
   "source": [
    "answer2 = 0\n",
    "for entry in entries:\n",
    "    # Split input|output\n",
    "    input, output = entry.split(' | ')\n",
    "\n",
    "    # Find wiring map that results in 10 valid digits\n",
    "    mapping = brute_force(input.split())\n",
    "    # Convert output with wiring map\n",
    "    output = translate(output.split(), mapping)\n",
    "    # Decode wires to decimal\n",
    "    digits = decode_digits(output)\n",
    "\n",
    "    answer2 += int(\"\".join(digits))"
   ]
  },
  {
   "cell_type": "code",
   "execution_count": 9,
   "metadata": {},
   "outputs": [
    {
     "name": "stdout",
     "output_type": "stream",
     "text": [
      "answer2 978171\n"
     ]
    }
   ],
   "source": [
    "print(\"answer2\", answer2)"
   ]
  }
 ],
 "metadata": {
  "kernelspec": {
   "display_name": "Python 3.8.10 64-bit",
   "language": "python",
   "name": "python3"
  },
  "language_info": {
   "codemirror_mode": {
    "name": "ipython",
    "version": 3
   },
   "file_extension": ".py",
   "mimetype": "text/x-python",
   "name": "python",
   "nbconvert_exporter": "python",
   "pygments_lexer": "ipython3",
   "version": "3.8.10"
  },
  "orig_nbformat": 4,
  "vscode": {
   "interpreter": {
    "hash": "e7370f93d1d0cde622a1f8e1c04877d8463912d04d973331ad4851f04de6915a"
   }
  }
 },
 "nbformat": 4,
 "nbformat_minor": 2
}
