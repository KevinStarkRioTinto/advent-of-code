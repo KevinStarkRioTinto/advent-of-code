{
 "cells": [
  {
   "cell_type": "code",
   "execution_count": 1,
   "metadata": {},
   "outputs": [
    {
     "name": "stdout",
     "output_type": "stream",
     "text": [
      "\u001b[0maoc-cli 0.6.0\n",
      "\u001b[0mLoaded session cookie from \"/home/kev/.adventofcode.session\".\n",
      "Fetching puzzle for day 12, 2021...\n",
      "Saving puzzle description to \"README.md\"...\n",
      "Downloading input for day 12, 2021...\n",
      "Saving puzzle input to \"input.txt\"...\n",
      "Done!\n"
     ]
    }
   ],
   "source": [
    "import os\n",
    "import sys\n",
    "import statistics\n",
    "\n",
    "aoc_year, aoc_day = os.getcwd().split(os.sep)[-2:]\n",
    "\n",
    "# Download today puzzle & input\n",
    "!aoc --version\n",
    "!aoc download -i input.txt --overwrite -p README.md --year {aoc_year} --day {aoc_day}"
   ]
  },
  {
   "cell_type": "markdown",
   "metadata": {},
   "source": [
    "\\--- Day 12: Passage Pathing ---\n",
    "----------\n"
   ]
  },
  {
   "cell_type": "markdown",
   "metadata": {},
   "source": [
    "*How many paths through this cave system are there that visit small caves at most once?*"
   ]
  },
  {
   "cell_type": "code",
   "execution_count": 2,
   "metadata": {},
   "outputs": [
    {
     "name": "stdout",
     "output_type": "stream",
     "text": [
      "['yw-MN', 'wn-XB', 'DG-dc', 'MN-wn', 'yw-DG', 'start-dc']\n"
     ]
    }
   ],
   "source": [
    "from pprint import pprint\n",
    "\n",
    "with open('input.txt', 'rt') as f:\n",
    "    lines = [x.strip() for x in f.readlines()]\n",
    "\n",
    "# Verify parse\n",
    "pprint(lines[:6])"
   ]
  },
  {
   "cell_type": "code",
   "execution_count": 3,
   "metadata": {},
   "outputs": [],
   "source": [
    "# Find connections\n",
    "connections = [line.split(\"-\") for line in lines]\n",
    "# Generate reverse connections\n",
    "connections += [[c[1],c[0]] for c in connections]\n",
    "# Drop connections back to start or away from end\n",
    "connections = [(a,b) for a,b in connections if a != \"end\" and b != \"start\"]\n"
   ]
  },
  {
   "cell_type": "code",
   "execution_count": 4,
   "metadata": {},
   "outputs": [],
   "source": [
    "def explore(breadcrumbs, connections):\n",
    "    # Find where we can go from here\n",
    "    options = [c[1] for c in connections if c[0] == breadcrumbs[-1]]\n",
    "    # Remove small-cave destinations that have already been visited \n",
    "    options = [o for o in options if o.isupper() or (o.islower() and o not in breadcrumbs)]\n",
    "    #print(f\"{breadcrumbs} exploring: {options}\")\n",
    "    if options:\n",
    "        return [explore(breadcrumbs + [o], connections) for o in options]\n",
    "    else:    \n",
    "        return \"-->\".join(breadcrumbs)\n",
    "\n",
    "def flatten(paths):\n",
    "    \"\"\"Flatten a crazy list rather than debug recursion\"\"\"\n",
    "    while any([isinstance(x, list) for x in paths]):\n",
    "        paths = [p for p in paths if isinstance(p, str)] + sum([sl for sl in paths if isinstance(sl, list)], [])\n",
    "    return paths\n"
   ]
  },
  {
   "cell_type": "code",
   "execution_count": 5,
   "metadata": {},
   "outputs": [],
   "source": [
    "paths = [\"start\"]\n",
    "paths = flatten(explore(paths, connections))\n",
    "# Reduce to paths that actually end\n",
    "paths = [p for p in paths if p.endswith(\"-->end\")]"
   ]
  },
  {
   "cell_type": "code",
   "execution_count": 6,
   "metadata": {},
   "outputs": [
    {
     "name": "stdout",
     "output_type": "stream",
     "text": [
      "answer 1: 4241\n"
     ]
    }
   ],
   "source": [
    "answer1 = len(paths)\n",
    "print(\"answer 1:\", answer1)"
   ]
  },
  {
   "cell_type": "markdown",
   "metadata": {},
   "source": [
    "----"
   ]
  },
  {
   "cell_type": "code",
   "execution_count": 7,
   "metadata": {},
   "outputs": [
    {
     "name": "stdout",
     "output_type": "stream",
     "text": [
      "Loaded session cookie from \"/home/kev/.adventofcode.session\".\n",
      "Fetching puzzle for day 12, 2021...\n",
      "Saving puzzle description to \"README.md\"...\n",
      "Done!\n"
     ]
    }
   ],
   "source": [
    "# Download part 2\n",
    "!aoc download --description-only --overwrite --puzzle-file README.md --year {aoc_year} --day {aoc_day}"
   ]
  },
  {
   "cell_type": "markdown",
   "metadata": {},
   "source": [
    "\\--- Part Two ---\n",
    "----------"
   ]
  },
  {
   "cell_type": "markdown",
   "metadata": {},
   "source": [
    "After reviewing the available paths, you realize you might have time to visit a single small cave *twice*. Specifically, big caves can be visited any number of times, a single small cave can be visited at most twice, and the remaining small caves can be visited at most once.\n",
    "\n",
    "Given these new rules, *how many paths through this cave system are there?*"
   ]
  },
  {
   "cell_type": "code",
   "execution_count": 8,
   "metadata": {},
   "outputs": [],
   "source": [
    "def explore_expanded(breadcrumbs, connections, depth=99):\n",
    "    if depth < 0: return \"ERROR\"\n",
    "    # Find where we can go from here\n",
    "    all_options = [c[1] for c in connections if c[0] == breadcrumbs[-1]]\n",
    "    #print(f\"{breadcrumbs} all: {all_options}\")\n",
    "    small_options = [o for o in all_options if o.islower()]\n",
    "    small_crumbs = [c for c in breadcrumbs if c.islower()]\n",
    "    has_small_dup = len(small_crumbs) > len(set(small_crumbs))\n",
    "    #print(f\"{breadcrumbs} small: {has_small_dup} {small_options}\")\n",
    "\n",
    "    if has_small_dup:\n",
    "        # Don't allow another small-cave-duplicate\n",
    "        small_options = [o for o in small_options if o not in breadcrumbs]\n",
    "     \n",
    "    options = [o for o in all_options if o.isupper()] + small_options\n",
    "    #print(f\"{breadcrumbs} exploring: {options}\")\n",
    "\n",
    "    if len(options) > 0:\n",
    "        return [explore_expanded(breadcrumbs + [o], connections, depth - 1) for o in options]\n",
    "    else:    \n",
    "        return \"-->\".join(breadcrumbs)"
   ]
  },
  {
   "cell_type": "code",
   "execution_count": 9,
   "metadata": {},
   "outputs": [],
   "source": [
    "paths = [\"start\"]\n",
    "paths = flatten(explore_expanded(paths, connections, depth=20))\n",
    "\n",
    "assert not any([\"ERROR\" in p for p in paths])\n",
    "# Reduce to paths that actually end\n",
    "paths = [p for p in paths if p.endswith(\"-->end\")]"
   ]
  },
  {
   "cell_type": "code",
   "execution_count": 10,
   "metadata": {},
   "outputs": [
    {
     "name": "stdout",
     "output_type": "stream",
     "text": [
      "answer 2: 122134\n"
     ]
    }
   ],
   "source": [
    "answer2 = len(paths)\n",
    "print(\"answer 2:\", answer2)"
   ]
  },
  {
   "cell_type": "code",
   "execution_count": null,
   "metadata": {},
   "outputs": [],
   "source": []
  }
 ],
 "metadata": {
  "kernelspec": {
   "display_name": "Python 3.8.10 64-bit",
   "language": "python",
   "name": "python3"
  },
  "language_info": {
   "codemirror_mode": {
    "name": "ipython",
    "version": 3
   },
   "file_extension": ".py",
   "mimetype": "text/x-python",
   "name": "python",
   "nbconvert_exporter": "python",
   "pygments_lexer": "ipython3",
   "version": "3.8.10"
  },
  "orig_nbformat": 4,
  "vscode": {
   "interpreter": {
    "hash": "e7370f93d1d0cde622a1f8e1c04877d8463912d04d973331ad4851f04de6915a"
   }
  }
 },
 "nbformat": 4,
 "nbformat_minor": 2
}
