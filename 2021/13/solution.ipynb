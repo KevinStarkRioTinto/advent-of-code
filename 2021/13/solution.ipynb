{
 "cells": [
  {
   "cell_type": "code",
   "execution_count": 1,
   "metadata": {},
   "outputs": [
    {
     "name": "stdout",
     "output_type": "stream",
     "text": [
      "\u001b[0maoc-cli 0.6.0\n",
      "\u001b[0mLoaded session cookie from \"/home/kev/.adventofcode.session\".\n",
      "Fetching puzzle for day 13, 2021...\n",
      "Saving puzzle description to \"README.md\"...\n",
      "Downloading input for day 13, 2021...\n",
      "Saving puzzle input to \"input.txt\"...\n",
      "Done!\n"
     ]
    }
   ],
   "source": [
    "import os\n",
    "import sys\n",
    "import statistics\n",
    "\n",
    "aoc_year, aoc_day = os.getcwd().split(os.sep)[-2:]\n",
    "\n",
    "# Download today puzzle & input\n",
    "!aoc --version\n",
    "!aoc download -i input.txt --overwrite -p README.md --year {aoc_year} --day {aoc_day}"
   ]
  },
  {
   "attachments": {},
   "cell_type": "markdown",
   "metadata": {},
   "source": [
    "\\--- Day 13: Transparent Origami ---\n",
    "----------\n"
   ]
  },
  {
   "attachments": {},
   "cell_type": "markdown",
   "metadata": {},
   "source": [
    "The transparent paper is pretty big, so for now, focus on just completing the first fold. After the first fold in the example above, `*17*` dots are visible - dots that end up overlapping after the fold is completed count as a single dot.\n",
    "\n",
    "*How many dots are visible after completing just the first fold instruction on your transparent paper?*\n"
   ]
  },
  {
   "cell_type": "code",
   "execution_count": 2,
   "metadata": {},
   "outputs": [
    {
     "name": "stdout",
     "output_type": "stream",
     "text": [
      "['982,10', '1094,887', '895,815', '1216,453', '1258,747', '162,663']\n"
     ]
    }
   ],
   "source": [
    "from pprint import pprint\n",
    "\n",
    "with open('input.txt', 'rt') as f:\n",
    "    lines = [x.strip() for x in f.readlines()]\n",
    "\n",
    "# Verify parse\n",
    "pprint(lines[:6])"
   ]
  },
  {
   "cell_type": "code",
   "execution_count": 3,
   "metadata": {},
   "outputs": [],
   "source": [
    "# Split file at empty line\n",
    "sep = lines.index(\"\")\n",
    "coords = [[int(x) for x in line.split(\",\")] for line in lines[:sep]]\n",
    "folds = lines[sep+1:]"
   ]
  },
  {
   "cell_type": "code",
   "execution_count": 4,
   "metadata": {},
   "outputs": [],
   "source": [
    "def fold_left(coords, at_x):\n",
    "    # Y will stay the same\n",
    "    # X left of fold will stay the same\n",
    "    mirrored = []\n",
    "    for coord in coords:\n",
    "        x,y = coord\n",
    "        if x > at_x:\n",
    "            # X right of fold will be mirrored left\n",
    "            new_x = at_x - (x - at_x)\n",
    "            #print(f\"{x} fold left {at_x} -> {new_x}\")\n",
    "            mirrored.append([new_x, y])\n",
    "    \n",
    "    # Drop all coords right of fold and append mirrored\n",
    "    coords = [c for c in coords if c[0] < at_x]\n",
    "    coords = coords + [c for c in mirrored if c not in coords]\n",
    "    return coords\n",
    "\n",
    "def fold_up(coords, fold_y):\n",
    "    # X will stay the same\n",
    "    # Y above the fold will stay the same\n",
    "    # Y below the fold will be mirrored above\n",
    "    mirrored = []\n",
    "    for coord in coords:\n",
    "        x,y = coord\n",
    "        if y > fold_y:\n",
    "            # Y below fold will be above\n",
    "            new_y = fold_y - (y - fold_y)\n",
    "            #print(f\"{x} fold left {at_x} -> {new_x}\")\n",
    "            mirrored.append([x, new_y])\n",
    "    \n",
    "    # Drop all coords below fold and append mirrored\n",
    "    coords = [c for c in coords if c[1] < fold_y]\n",
    "    coords = coords + [c for c in mirrored if c not in coords]\n",
    "    return coords\n"
   ]
  },
  {
   "cell_type": "code",
   "execution_count": 5,
   "metadata": {},
   "outputs": [],
   "source": [
    "points = coords.copy()\n",
    "dim, length = folds[0].split()[2].split(\"=\")\n",
    "\n",
    "if dim == \"x\":\n",
    "    points = fold_left(points, int(length))\n",
    "if dim == \"y\":\n",
    "    points = fold_up(points, int(length))\n"
   ]
  },
  {
   "cell_type": "code",
   "execution_count": 6,
   "metadata": {},
   "outputs": [
    {
     "name": "stdout",
     "output_type": "stream",
     "text": [
      "answer1: 818\n"
     ]
    }
   ],
   "source": [
    "answer1 = len(points)\n",
    "print(\"answer1:\", answer1)"
   ]
  },
  {
   "cell_type": "markdown",
   "metadata": {},
   "source": [
    "----"
   ]
  },
  {
   "cell_type": "code",
   "execution_count": 7,
   "metadata": {},
   "outputs": [
    {
     "name": "stdout",
     "output_type": "stream",
     "text": [
      "Loaded session cookie from \"/home/kev/.adventofcode.session\".\n",
      "Fetching puzzle for day 13, 2021...\n",
      "Saving puzzle description to \"README.md\"...\n",
      "Done!\n"
     ]
    }
   ],
   "source": [
    "# Download part 2\n",
    "!aoc download --description-only --overwrite --puzzle-file README.md --year {aoc_year} --day {aoc_day}"
   ]
  },
  {
   "cell_type": "markdown",
   "metadata": {},
   "source": [
    "\\--- Part Two ---\n",
    "----------"
   ]
  },
  {
   "attachments": {},
   "cell_type": "markdown",
   "metadata": {},
   "source": [
    "Finish folding the transparent paper according to the instructions. The manual says the code is always eight capital letters.\n",
    "\n",
    "What code do you use to activate the infrared thermal imaging camera system?\n",
    "\n"
   ]
  },
  {
   "cell_type": "code",
   "execution_count": 8,
   "metadata": {},
   "outputs": [
    {
     "name": "stdout",
     "output_type": "stream",
     "text": [
      "fold along x=655 974 --> 818\n",
      "fold along y=447 818 --> 686\n",
      "fold along x=327 686 --> 558\n",
      "fold along y=223 558 --> 465\n",
      "fold along x=163 465 --> 397\n",
      "fold along y=111 397 --> 335\n",
      "fold along x=81 335 --> 273\n",
      "fold along y=55 273 --> 226\n",
      "fold along x=40 226 --> 183\n",
      "fold along y=27 183 --> 153\n",
      "fold along y=13 153 --> 123\n",
      "fold along y=6 123 --> 101\n"
     ]
    }
   ],
   "source": [
    "points = coords.copy()\n",
    "for fold in folds:\n",
    "    dim, length = fold.split()[2].split(\"=\")\n",
    "\n",
    "    before = len(points)\n",
    "    if dim == \"x\":\n",
    "        points = fold_left(points, int(length))\n",
    "    if dim == \"y\":\n",
    "        points = fold_up(points, int(length))\n",
    "    print(f\"{fold} {before} --> {len(points)}\")\n"
   ]
  },
  {
   "cell_type": "code",
   "execution_count": null,
   "metadata": {},
   "outputs": [],
   "source": []
  },
  {
   "cell_type": "code",
   "execution_count": 9,
   "metadata": {},
   "outputs": [
    {
     "name": "stdout",
     "output_type": "stream",
     "text": [
      "['#    ###   ##  ###  ###  ####  ##  ### ',\n",
      " '#    #  # #  # #  # #  # #    #  # #  #',\n",
      " '#    #  # #    #  # #  # ###  #    ### ',\n",
      " '#    ###  # ## ###  ###  #    #    #  #',\n",
      " '#    # #  #  # #    # #  #    #  # #  #',\n",
      " '#### #  #  ### #    #  # ####  ##  ### ']\n"
     ]
    }
   ],
   "source": [
    "# Create visual lines from points\n",
    "max_y = max([p[1] for p in points])\n",
    "tty = [[] for y in range(max_y + 1)]\n",
    "cursor = 0\n",
    "out = 0\n",
    "while out < len(points):\n",
    "    for (x,y) in points:\n",
    "        if x == cursor:\n",
    "            tty[y] += [\"#\"]\n",
    "            out += 1\n",
    "    \n",
    "    for y in range(len(tty)):\n",
    "        if len(tty[y]) == cursor:\n",
    "            tty[y] += [\" \"]\n",
    "    cursor += 1\n",
    "\n",
    "pprint([\"\".join(line) for line in tty])"
   ]
  },
  {
   "cell_type": "code",
   "execution_count": 10,
   "metadata": {},
   "outputs": [],
   "source": [
    "# answer2 = 123\n",
    "# print(\"answer 2:\", answer2)"
   ]
  }
 ],
 "metadata": {
  "kernelspec": {
   "display_name": "Python 3.8.10 64-bit",
   "language": "python",
   "name": "python3"
  },
  "language_info": {
   "codemirror_mode": {
    "name": "ipython",
    "version": 3
   },
   "file_extension": ".py",
   "mimetype": "text/x-python",
   "name": "python",
   "nbconvert_exporter": "python",
   "pygments_lexer": "ipython3",
   "version": "3.8.10"
  },
  "orig_nbformat": 4,
  "vscode": {
   "interpreter": {
    "hash": "e7370f93d1d0cde622a1f8e1c04877d8463912d04d973331ad4851f04de6915a"
   }
  }
 },
 "nbformat": 4,
 "nbformat_minor": 2
}
