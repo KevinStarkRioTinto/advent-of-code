{
 "cells": [
  {
   "cell_type": "markdown",
   "metadata": {},
   "source": [
    "https://adventofcode.com/2021/day/3"
   ]
  },
  {
   "cell_type": "markdown",
   "metadata": {},
   "source": [
    "# --- Day 3: Binary Diagnostic ---\n",
    "The submarine has been making some odd creaking noises, so you ask it to produce a diagnostic report just in case.\n",
    "\n",
    "The diagnostic report (your puzzle input) consists of a list of binary numbers which, when decoded properly, can tell you many useful things about the conditions of the submarine. The first parameter to check is the power consumption.\n",
    "\n",
    "You need to use the binary numbers in the diagnostic report to generate two new binary numbers (called the gamma rate and the epsilon rate). The power consumption can then be found by multiplying the gamma rate by the epsilon rate.\n",
    "\n",
    "Each bit in the gamma rate can be determined by finding the most common bit in the corresponding position of all numbers in the diagnostic report. For example, given the following diagnostic report:\n",
    "```\n",
    "00100\n",
    "11110\n",
    "10110\n",
    "10111\n",
    "10101\n",
    "01111\n",
    "00111\n",
    "11100\n",
    "10000\n",
    "11001\n",
    "00010\n",
    "01010\n",
    "```\n",
    "Considering only the first bit of each number, there are five `0` bits and seven `1` bits. Since the most common bit is `1`, the first bit of the gamma rate is `1`.\n",
    "\n",
    "The most common second bit of the numbers in the diagnostic report is `0`, so the second bit of the gamma rate is `0`.\n",
    "\n",
    "The most common value of the third, fourth, and fifth bits are `1`, `1`, and `0`, respectively, and so the final three bits of the gamma rate are `110`.\n",
    "\n",
    "So, the gamma rate is the binary number `10110`, or `22` in decimal.\n",
    "\n",
    "The epsilon rate is calculated in a similar way; rather than use the most common bit, the least common bit from each position is used. So, the epsilon rate is `01001`, or `9` in decimal. Multiplying the gamma rate (`22`) by the epsilon rate (`9`) produces the power consumption, `198`.\n",
    "\n",
    "Use the binary numbers in your diagnostic report to calculate the gamma rate and epsilon rate, then multiply them together. What is the power consumption of the submarine? (Be sure to represent your answer in decimal, not binary.)"
   ]
  },
  {
   "cell_type": "code",
   "execution_count": 1,
   "metadata": {},
   "outputs": [
    {
     "data": {
      "text/plain": [
       "['101011111001',\n",
       " '111111011110',\n",
       " '010000111100',\n",
       " '101000010000',\n",
       " '011101100010',\n",
       " '010111000101']"
      ]
     },
     "execution_count": 1,
     "metadata": {},
     "output_type": "execute_result"
    }
   ],
   "source": [
    "with open('input.txt', 'rt') as f:\n",
    "    report = [_.strip() for _ in f.readlines()]\n",
    "\n",
    "report[:6]"
   ]
  },
  {
   "cell_type": "code",
   "execution_count": 2,
   "metadata": {},
   "outputs": [
    {
     "name": "stdout",
     "output_type": "stream",
     "text": [
      "{'0': [513, 472, 515, 499, 462, 498, 520, 476, 505, 514, 495, 484], '1': [487, 528, 485, 501, 538, 502, 480, 524, 495, 486, 505, 516]}\n",
      "answer 1: 3882564\n"
     ]
    }
   ],
   "source": [
    "def count_by_position(lines):\n",
    "    counters = {\n",
    "        \"0\": [],\n",
    "        \"1\": [],\n",
    "    }\n",
    "\n",
    "    # Iterate over each line, count the occurences of {0|1} at each index\n",
    "    for line in lines:\n",
    "        items = list(line)\n",
    "\n",
    "        for k,v in counters.items():\n",
    "            while len(counters[k]) < len(items):\n",
    "                counters[k].append(0)\n",
    "\n",
    "            for i, it in enumerate(items):\n",
    "                if it == k:\n",
    "                    counters[k][i] += 1\n",
    "    return counters\n",
    "\n",
    "counters = count_by_position(report)\n",
    "print(counters)\n",
    "gamma = []\n",
    "epsilon = []\n",
    "for i, (i0, i1) in enumerate(zip(counters[\"0\"], counters['1'])):\n",
    "    if i1 > i0:\n",
    "        gamma.append(\"1\")\n",
    "        epsilon.append(\"0\")\n",
    "    else:\n",
    "        gamma.append(\"0\")\n",
    "        epsilon.append(\"1\")\n",
    "\n",
    "power = int(\"\".join(gamma), 2) * int(\"\".join(epsilon), 2)\n",
    "\n",
    "print(\"answer 1:\", power)"
   ]
  },
  {
   "cell_type": "markdown",
   "metadata": {},
   "source": [
    "## --- Part Two ---\n",
    "Next, you should verify the life support rating, which can be determined by multiplying the oxygen generator rating by the CO2 scrubber rating.\n",
    "\n",
    "Both the oxygen generator rating and the CO2 scrubber rating are values that can be found in your diagnostic report - finding them is the tricky part. Both values are located using a similar process that involves filtering out values until only one remains. Before searching for either rating value, start with the full list of binary numbers from your diagnostic report and consider just the first bit of those numbers. Then:\n",
    "\n",
    "- Keep only numbers selected by the bit criteria for the type of rating value for which you are searching. Discard numbers which do not match the bit criteria.\n",
    "- If you only have one number left, stop; this is the rating value for which you are searching.\n",
    "- Otherwise, repeat the process, considering the next bit to the right.\n",
    "\n",
    "The bit criteria depends on which type of rating value you want to find:\n",
    "\n",
    "- To find oxygen generator rating, determine the most common value (0 or 1) in the current bit position, and keep only numbers with that bit in that position. If 0 and 1 are equally common, keep values with a 1 in the position being considered.\n",
    "- To find CO2 scrubber rating, determine the least common value (0 or 1) in the current bit position, and keep only numbers with that bit in that position. If 0 and 1 are equally common, keep values with a 0 in the position being considered.\n",
    "\n",
    "For example, to determine the oxygen generator rating value using the same example diagnostic report from above:\n",
    "\n",
    "- Start with all 12 numbers and consider only the first bit of each number. There are more 1 bits (7) than 0 bits (5), so keep only the 7 numbers with a 1 in the first position: 11110, 10110, 10111, 10101, 11100, 10000, and 11001.\n",
    "- Then, consider the second bit of the 7 remaining numbers: there are more 0 bits (4) than 1 bits (3), so keep only the 4 numbers with a 0 in the second position: 10110, 10111, 10101, and 10000.\n",
    "- In the third position, three of the four numbers have a 1, so keep those three: 10110, 10111, and 10101.\n",
    "- In the fourth position, two of the three numbers have a 1, so keep those two: 10110 and 10111.\n",
    "- In the fifth position, there are an equal number of 0 bits and 1 bits (one each). So, to find the oxygen generator rating, keep the number with a 1 in that position: 10111.\n",
    "- As there is only one number left, stop; the oxygen generator rating is 10111, or 23 in decimal.\n",
    "\n",
    "Then, to determine the CO2 scrubber rating value from the same example above:\n",
    "\n",
    "- Start again with all 12 numbers and consider only the first bit of each number. There are fewer 0 bits (5) than 1 bits (7), so keep only the 5 numbers with a 0 in the first position: 00100, 01111, 00111, 00010, and 01010.\n",
    "- Then, consider the second bit of the 5 remaining numbers: there are fewer 1 bits (2) than 0 bits (3), so keep only the 2 numbers with a 1 in the second position: 01111 and 01010.\n",
    "- In the third position, there are an equal number of 0 bits and 1 bits (one each). So, to find the CO2 scrubber rating, keep the number with a 0 in that position: 01010.\n",
    "- As there is only one number left, stop; the CO2 scrubber rating is 01010, or 10 in decimal.\n",
    "\n",
    "Finally, to find the life support rating, multiply the oxygen generator rating (23) by the CO2 scrubber rating (10) to get 230.\n",
    "\n",
    "Use the binary numbers in your diagnostic report to calculate the oxygen generator rating and CO2 scrubber rating, then multiply them together. What is the life support rating of the submarine? (Be sure to represent your answer in decimal, not binary.)\n",
    "\n"
   ]
  },
  {
   "cell_type": "code",
   "execution_count": 3,
   "metadata": {},
   "outputs": [
    {
     "name": "stdout",
     "output_type": "stream",
     "text": [
      "0 oxy: (1000) {'0': 513, '1': 487} co2: (1000) {'0': 513, '1': 487}\n",
      "  oxy: ['0'] co2: ['1']\n",
      "1 oxy: (513) {'0': 246, '1': 267} co2: (487) {'0': 226, '1': 261}\n",
      "  oxy: ['1'] co2: ['0']\n",
      "2 oxy: (267) {'0': 138, '1': 129} co2: (226) {'0': 122, '1': 104}\n",
      "  oxy: ['0'] co2: ['1']\n",
      "3 oxy: (138) {'0': 67, '1': 71} co2: (104) {'0': 48, '1': 56}\n",
      "  oxy: ['1'] co2: ['0']\n",
      "4 oxy: (71) {'0': 39, '1': 32} co2: (48) {'0': 21, '1': 27}\n",
      "  oxy: ['0'] co2: ['0']\n",
      "5 oxy: (39) {'0': 20, '1': 19} co2: (21) {'0': 10, '1': 11}\n",
      "  oxy: ['0'] co2: ['0']\n",
      "6 oxy: (20) {'0': 12, '1': 8} co2: (10) {'0': 6, '1': 4}\n",
      "  oxy: ['0'] co2: ['1']\n",
      "7 oxy: (12) {'0': 6, '1': 6} co2: (4) {'0': 2, '1': 2}\n",
      "  oxy: ['1'] co2: ['0']\n",
      "8 oxy: (6) {'0': 3, '1': 3} co2: (2) {'0': 1, '1': 1}\n",
      "  oxy: ['1'] co2: ['0']\n",
      "9 oxy: (3) {'0': 3, '1': 0} co2: (1) {'0': 1, '1': 0}\n",
      "  oxy: ['0'] co2: ['1']\n",
      "10 oxy: (3) {'0': 2, '1': 1} co2: (1) {'0': 0, '1': 1}\n",
      "  oxy: ['0'] co2: ['0']\n",
      "11 oxy: (2) {'0': 1, '1': 1} co2: (1) {'0': 1, '1': 0}\n",
      "  oxy: ['1'] co2: ['1']\n",
      "['010100011001'] ['101000100010']\n",
      "answer 2: 3385170\n"
     ]
    }
   ],
   "source": [
    "def match_at_position(lines, index: int, value: str):\n",
    "    return [_ for _ in lines if list(_)[index] == value]\n",
    "\n",
    "oxy = report\n",
    "co2 = report\n",
    "\n",
    "for i in range(0, len(report[0])):\n",
    "\n",
    "    oxy_check = {k:v[i] for k,v in count_by_position(oxy).items()}\n",
    "    co2_check = {k:v[i] for k,v in count_by_position(co2).items()}\n",
    "    print(f\"{i} oxy: ({len(oxy)}) {oxy_check} co2: ({len(co2)}) {co2_check}\")\n",
    "\n",
    "    oxy_bit = [k for k,v in oxy_check.items() if v == max(oxy_check.values())]\n",
    "    co2_bit = [k for k,v in co2_check.items() if v == min(co2_check.values())]\n",
    "    # If tie, choose 1 for oxy, 0 for co2\n",
    "    if len(oxy_bit) > 1:\n",
    "        oxy_bit = [\"1\"]\n",
    "    if len(co2_bit) > 1:\n",
    "        co2_bit = [\"0\"]\n",
    "    print(f\"  oxy: {oxy_bit} co2: {co2_bit}\")\n",
    "\n",
    "    if len(oxy) > 1:\n",
    "        oxy = match_at_position(oxy, i, oxy_bit[0])\n",
    "    if len(co2) > 1:\n",
    "        co2 = match_at_position(co2, i, co2_bit[0])\n",
    "\n",
    "print(oxy, co2)\n",
    "\n",
    "life = int(\"\".join(oxy), 2) * int(\"\".join(co2), 2)\n",
    "\n",
    "print(\"answer 2:\", life)"
   ]
  }
 ],
 "metadata": {
  "kernelspec": {
   "display_name": "Python 3.8.10 64-bit",
   "language": "python",
   "name": "python3"
  },
  "language_info": {
   "codemirror_mode": {
    "name": "ipython",
    "version": 3
   },
   "file_extension": ".py",
   "mimetype": "text/x-python",
   "name": "python",
   "nbconvert_exporter": "python",
   "pygments_lexer": "ipython3",
   "version": "3.8.10"
  },
  "orig_nbformat": 4,
  "vscode": {
   "interpreter": {
    "hash": "e7370f93d1d0cde622a1f8e1c04877d8463912d04d973331ad4851f04de6915a"
   }
  }
 },
 "nbformat": 4,
 "nbformat_minor": 2
}
