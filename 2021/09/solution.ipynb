{
 "cells": [
  {
   "cell_type": "code",
   "execution_count": 1,
   "metadata": {},
   "outputs": [
    {
     "name": "stdout",
     "output_type": "stream",
     "text": [
      "\u001b[0maoc-cli 0.6.0\n",
      "\u001b[0mLoaded session cookie from \"/home/kev/.adventofcode.session\".\n",
      "Fetching puzzle for day 9, 2021...\n",
      "Saving puzzle description to \"README.md\"...\n",
      "Downloading input for day 9, 2021...\n",
      "Saving puzzle input to \"input.txt\"...\n",
      "Done!\n"
     ]
    }
   ],
   "source": [
    "import os\n",
    "import sys\n",
    "import statistics\n",
    "\n",
    "aoc_year, aoc_day = os.getcwd().split(os.sep)[-2:]\n",
    "\n",
    "# Download today puzzle & input\n",
    "!aoc --version\n",
    "!aoc download -i input.txt --overwrite -p README.md --year {aoc_year} --day {aoc_day}"
   ]
  },
  {
   "cell_type": "markdown",
   "metadata": {},
   "source": [
    "\\--- Day 9: Smoke Basin ---\n",
    "----------\n",
    "\n",
    "These caves seem to be [lava tubes](https://en.wikipedia.org/wiki/Lava_tube). Parts are even still volcanically active; small hydrothermal vents release smoke into the caves that slowly settles like rain.\n",
    "\n",
    "If you can model how the smoke flows through the caves, you might be able to avoid it and be that much safer. The submarine generates a heightmap of the floor of the nearby caves for you (your puzzle input).\n",
    "\n",
    "Smoke flows to the lowest point of the area it's in. For example, consider the following heightmap:\n",
    "\n",
    "```\n",
    "2199943210\n",
    "3987894921\n",
    "9856789892\n",
    "8767896789\n",
    "9899965678\n",
    "\n",
    "```\n",
    "\n",
    "Each number corresponds to the height of a particular location, where `9` is the highest and `0` is the lowest a location can be.\n",
    "\n",
    "Your first goal is to find the *low points* - the locations that are lower than any of its adjacent locations. Most locations have four adjacent locations (up, down, left, and right); locations on the edge or corner of the map have three or two adjacent locations, respectively. (Diagonal locations do not count as adjacent.)\n",
    "\n",
    "In the above example, there are *four* low points, all highlighted: two are in the first row (a `1` and a `0`), one is in the third row (a `5`), and one is in the bottom row (also a `5`). All other locations on the heightmap have some lower adjacent location, and so are not low points.\n",
    "\n",
    "The *risk level* of a low point is *1 plus its height*. In the above example, the risk levels of the low points are `2`, `1`, `6`, and `6`. The sum of the risk levels of all low points in the heightmap is therefore `*15*`.\n",
    "\n",
    "Find all of the low points on your heightmap. *What is the sum of the risk levels of all low points on your heightmap?*"
   ]
  },
  {
   "cell_type": "code",
   "execution_count": 2,
   "metadata": {},
   "outputs": [
    {
     "name": "stdout",
     "output_type": "stream",
     "text": [
      "len: 100\n",
      "['5656921987125678979998760234965456789998768789239876323457896545467894567987232345679209876567998656',\n",
      " '4349899876234599568987654345894345999987656678945965212348965434356943459876101956798912987459876541',\n",
      " '5498789854345689467898765456789297898999736567899874323489654321248932398765219897987893498598765432',\n",
      " '6989598765459789356989878767896345987432125456789985434578965432357953499954398789376789569679876543',\n",
      " '9875459876569893249876989898965476976521012345699876645689876543456894689875679643234598998789987656',\n",
      " '8764345987678989139765393959796567965432543457789987887792987654569965678976798432123467899899998867']\n"
     ]
    }
   ],
   "source": [
    "from pprint import pprint\n",
    "\n",
    "with open('input.txt', 'rt') as f:\n",
    "    lines = [x.strip() for x in f.readlines()]\n",
    "\n",
    "# Verify parse\n",
    "print(\"len:\", len(lines))\n",
    "pprint(lines[:6])"
   ]
  },
  {
   "cell_type": "code",
   "execution_count": 3,
   "metadata": {},
   "outputs": [],
   "source": [
    "# Convert to numeric list-of-lists\n",
    "heightmap = []\n",
    "for line in lines:\n",
    "    heightmap.append([int(x) for x in list(line)])\n"
   ]
  },
  {
   "cell_type": "code",
   "execution_count": 4,
   "metadata": {},
   "outputs": [],
   "source": [
    "def lookup(heightmap, y, x, missing = 10):\n",
    "    if y < 0 or y >= len(heightmap):\n",
    "        return missing \n",
    "    if x < 0 or x >= len(heightmap[y]):\n",
    "        return missing\n",
    "    else:\n",
    "\n",
    "        return heightmap[y][x]\n",
    "\n",
    "answer1 = 0\n",
    "for y in range(len(heightmap)):\n",
    "    for x in range(len(heightmap[y])):\n",
    "\n",
    "        min_height = min(\n",
    "            lookup(heightmap, y-1, x),\n",
    "            lookup(heightmap, y+1, x),\n",
    "            lookup(heightmap, y, x-1),\n",
    "            lookup(heightmap, y, x+1),\n",
    "        )\n",
    "        if heightmap[y][x] < min_height:\n",
    "            answer1 += 1 + heightmap[y][x]\n"
   ]
  },
  {
   "cell_type": "code",
   "execution_count": 5,
   "metadata": {},
   "outputs": [
    {
     "name": "stdout",
     "output_type": "stream",
     "text": [
      "answer 1: 452\n"
     ]
    }
   ],
   "source": [
    "\n",
    "print(\"answer 1:\", answer1)"
   ]
  },
  {
   "cell_type": "markdown",
   "metadata": {},
   "source": [
    "----"
   ]
  },
  {
   "cell_type": "code",
   "execution_count": 6,
   "metadata": {},
   "outputs": [
    {
     "name": "stdout",
     "output_type": "stream",
     "text": [
      "Loaded session cookie from \"/home/kev/.adventofcode.session\".\n",
      "Fetching puzzle for day 9, 2021...\n",
      "Saving puzzle description to \"README.md\"...\n",
      "Done!\n"
     ]
    }
   ],
   "source": [
    "# Download part 2\n",
    "!aoc download --description-only --overwrite --puzzle-file README.md --year {aoc_year} --day {aoc_day}"
   ]
  },
  {
   "cell_type": "markdown",
   "metadata": {},
   "source": [
    "\n",
    "\\--- Part Two ---\n",
    "----------\n",
    "\n",
    "Next, you need to find the largest basins so you know what areas are most important to avoid.\n",
    "\n",
    "A *basin* is all locations that eventually flow downward to a single low point. Therefore, every low point has a basin, although some basins are very small. Locations of height `9` do not count as being in any basin, and all other locations will always be part of exactly one basin.\n",
    "\n",
    "The *size* of a basin is the number of locations within the basin, including the low point. The example above has four basins.\n",
    "\n",
    "The top-left basin, size `3`:\n",
    "\n",
    "```\n",
    "2199943210\n",
    "3987894921\n",
    "9856789892\n",
    "8767896789\n",
    "9899965678\n",
    "\n",
    "```\n",
    "\n",
    "The top-right basin, size `9`:\n",
    "\n",
    "```\n",
    "2199943210\n",
    "3987894921\n",
    "9856789892\n",
    "8767896789\n",
    "9899965678\n",
    "\n",
    "```\n",
    "\n",
    "The middle basin, size `14`:\n",
    "\n",
    "```\n",
    "2199943210\n",
    "3987894921\n",
    "9856789892\n",
    "8767896789\n",
    "9899965678\n",
    "\n",
    "```\n",
    "\n",
    "The bottom-right basin, size `9`:\n",
    "\n",
    "```\n",
    "2199943210\n",
    "3987894921\n",
    "9856789892\n",
    "8767896789\n",
    "9899965678\n",
    "\n",
    "```\n",
    "\n",
    "Find the three largest basins and multiply their sizes together. In the above example, this is `9 * 14 * 9 = *1134*`.\n",
    "\n",
    "*What do you get if you multiply together the sizes of the three largest basins?*"
   ]
  },
  {
   "cell_type": "code",
   "execution_count": 7,
   "metadata": {},
   "outputs": [],
   "source": [
    "coords = []\n",
    "# Convert to list of points with < 9\n",
    "for y in range(len(heightmap)):\n",
    "    for x in range(len(heightmap[y])):\n",
    "        if heightmap[y][x] < 9:\n",
    "            coords.append((y,x))\n",
    "\n",
    "basins = []\n",
    "for p in coords:\n",
    "    if any([p in basin for basin in basins]):\n",
    "        # Point exists in basin\n",
    "        basin_index = [bi for bi in range(len(basins)) if p in basins[bi]][0]\n",
    "        #print(f\"found {p} in basin {basin_index}\")\n",
    "    else:\n",
    "        # create new basin & add\n",
    "        basins.append([p])\n",
    "        basin_index = len(basins) - 1\n",
    "        #print(f\"creating {p} in basin {basin_index}\")\n",
    "\n",
    "    neighbours = [p]\n",
    "    while len(neighbours) > 0:\n",
    "        p = neighbours.pop()\n",
    "\n",
    "        # Add point to current basin, if not already in another\n",
    "        if not any([p in basin for basin in basins]):\n",
    "            #print(f\"adding {p} to basin {basin_index}\")\n",
    "            basins[basin_index].append(p)\n",
    "\n",
    "        pn = (p[0]-1, p[1]) # North\n",
    "        pe = (p[0], p[1]+1) # East\n",
    "        ps = (p[0]+1, p[1]) # South\n",
    "        pw = (p[0], p[1]-1) # West\n",
    "\n",
    "        # Earmark surrounding points \n",
    "        for px in [pn, pe, ps, pw]:\n",
    "            if px not in neighbours and px in coords and not any([px in basin for basin in basins]):\n",
    "                #print(f\"exploring {px}\")\n",
    "                neighbours.append(px)\n"
   ]
  },
  {
   "cell_type": "code",
   "execution_count": 8,
   "metadata": {},
   "outputs": [
    {
     "name": "stdout",
     "output_type": "stream",
     "text": [
      "0 115\n",
      "1 111\n",
      "2 99\n"
     ]
    }
   ],
   "source": [
    "\n",
    "# Sort largest\n",
    "answer2 = 1\n",
    "basin_sizes = [len(basin) for basin in basins]\n",
    "for i, size in enumerate(reversed(sorted(basin_sizes))):\n",
    "    print(i, size)\n",
    "    answer2 *= size\n",
    "    if i == 2: break\n"
   ]
  },
  {
   "cell_type": "code",
   "execution_count": 9,
   "metadata": {},
   "outputs": [
    {
     "name": "stdout",
     "output_type": "stream",
     "text": [
      "answer 2: 1263735\n"
     ]
    }
   ],
   "source": [
    "print(\"answer 2:\", answer2)"
   ]
  },
  {
   "cell_type": "code",
   "execution_count": null,
   "metadata": {},
   "outputs": [],
   "source": []
  }
 ],
 "metadata": {
  "kernelspec": {
   "display_name": "Python 3.8.10 64-bit",
   "language": "python",
   "name": "python3"
  },
  "language_info": {
   "codemirror_mode": {
    "name": "ipython",
    "version": 3
   },
   "file_extension": ".py",
   "mimetype": "text/x-python",
   "name": "python",
   "nbconvert_exporter": "python",
   "pygments_lexer": "ipython3",
   "version": "3.8.10"
  },
  "orig_nbformat": 4,
  "vscode": {
   "interpreter": {
    "hash": "e7370f93d1d0cde622a1f8e1c04877d8463912d04d973331ad4851f04de6915a"
   }
  }
 },
 "nbformat": 4,
 "nbformat_minor": 2
}
