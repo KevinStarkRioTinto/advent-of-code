{
 "cells": [
  {
   "cell_type": "markdown",
   "metadata": {},
   "source": [
    "https://adventofcode.com/2021/day/5"
   ]
  },
  {
   "cell_type": "markdown",
   "metadata": {},
   "source": [
    "# --- Day 5: Hydrothermal Venture ---\n",
    "You come across a field of hydrothermal vents on the ocean floor! These vents constantly produce large, opaque clouds, so it would be best to avoid them if possible.\n",
    "\n",
    "They tend to form in lines; the submarine helpfully produces a list of nearby lines of vents (your puzzle input) for you to review. For example:\n",
    "```\n",
    "0,9 -> 5,9\n",
    "8,0 -> 0,8\n",
    "9,4 -> 3,4\n",
    "2,2 -> 2,1\n",
    "7,0 -> 7,4\n",
    "6,4 -> 2,0\n",
    "0,9 -> 2,9\n",
    "3,4 -> 1,4\n",
    "0,0 -> 8,8\n",
    "5,5 -> 8,2\n",
    "```\n",
    "Each line of vents is given as a line segment in the format `x1,y1 -> x2,y2` where `x1,y1` are the coordinates of one end the line segment and `x2,y2` are the coordinates of the other end. These line segments include the points at both ends. In other words:\n",
    "\n",
    "- An entry like `1,1 -> 1,3` covers points `1,1`, `1,2`, and `1,3`.\n",
    "- An entry like `9,7 -> 7,7` covers points `9,7`, `8,7`, and `7,7`.\n",
    "\n",
    "For now, only consider horizontal and vertical lines: lines where either `x1 = x2` or `y1 = y2`.\n",
    "\n",
    "So, the horizontal and vertical lines from the above list would produce the following diagram:\n",
    "```\n",
    ".......1..\n",
    "..1....1..\n",
    "..1....1..\n",
    ".......1..\n",
    ".112111211\n",
    "..........\n",
    "..........\n",
    "..........\n",
    "..........\n",
    "222111....\n",
    "```\n",
    "\n",
    "In this diagram, the top left corner is `0,0` and the bottom right corner is `9,9`. Each position is shown as the number of lines which cover that point or . if no line covers that point. The top-left pair of `1s`, for example, comes from `2,2 -> 2,1`; the very bottom row is formed by the overlapping lines `0,9 -> 5,9` and `0,9 -> 2,9`.\n",
    "\n",
    "To avoid the most dangerous areas, you need to determine the number of points where at least two lines overlap. In the above example, this is anywhere in the diagram with a `2` or larger - a total of `5` points.\n",
    "\n",
    "Consider only horizontal and vertical lines. At how many points do at least two lines overlap?\n"
   ]
  },
  {
   "cell_type": "code",
   "execution_count": 1,
   "metadata": {},
   "outputs": [
    {
     "data": {
      "text/plain": [
       "['260,605 -> 260,124',\n",
       " '308,411 -> 656,63',\n",
       " '570,791 -> 396,617',\n",
       " '622,593 -> 622,240',\n",
       " '944,801 -> 829,916',\n",
       " '310,439 -> 310,676']"
      ]
     },
     "execution_count": 1,
     "metadata": {},
     "output_type": "execute_result"
    }
   ],
   "source": [
    "with open('input.txt', 'rt') as f:\n",
    "    ranges = [_.strip() for _ in f.readlines()]\n",
    "\n",
    "ranges[:6]"
   ]
  },
  {
   "cell_type": "code",
   "execution_count": 2,
   "metadata": {},
   "outputs": [],
   "source": [
    "MAX_SIZE = 999"
   ]
  },
  {
   "cell_type": "code",
   "execution_count": 3,
   "metadata": {},
   "outputs": [],
   "source": [
    "grid = [[0 for _ in range(MAX_SIZE)] for _ in range(MAX_SIZE)]\n",
    "coords = []\n",
    "\n",
    "for line in ranges:\n",
    "    c1, c2 = line.split(' -> ')\n",
    "    x1,y1 = [int(_) for _ in c1.split(',')]\n",
    "    x2,y2 = [int(_) for _ in c2.split(',')]\n",
    "    \n",
    "    #print(line)\n",
    "\n",
    "    step = 1\n",
    "    if y1 == y2:\n",
    "        # Horizontal\n",
    "        if x1 > x2:\n",
    "            step = -1\n",
    "        for x in range(x1, x2 + step, step):\n",
    "            #print(\"h\", x,y1)\n",
    "            grid[y1][x] += 1\n",
    "            coords.append(f\"{x},{y1}\")\n",
    "    elif x1 == x2:\n",
    "        # Vertical\n",
    "        if y1 > y2:\n",
    "            step = -1\n",
    "        for y in range(y1, y2 + step, step):\n",
    "            #print(\"v\", x1,y)\n",
    "            grid[y][x1] += 1\n",
    "            coords.append(f\"{x1},{y}\")"
   ]
  },
  {
   "cell_type": "code",
   "execution_count": 4,
   "metadata": {},
   "outputs": [
    {
     "name": "stdout",
     "output_type": "stream",
     "text": [
      "answer 1: 5092\n"
     ]
    }
   ],
   "source": [
    "count = 0\n",
    "for row in grid:\n",
    "    count += len([x for x in row if x >= 2])\n",
    "\n",
    "print(\"answer 1:\", count)\n"
   ]
  },
  {
   "cell_type": "markdown",
   "metadata": {},
   "source": [
    "## --- Part Two ---\n",
    "Unfortunately, considering only horizontal and vertical lines doesn't give you the full picture; you need to also consider diagonal lines.\n",
    "\n",
    "Because of the limits of the hydrothermal vent mapping system, the lines in your list will only ever be horizontal, vertical, or a diagonal line at exactly 45 degrees. In other words:\n",
    "\n",
    "- An entry like 1,1 -> 3,3 covers points 1,1, 2,2, and 3,3.\n",
    "- An entry like 9,7 -> 7,9 covers points 9,7, 8,8, and 7,9.\n",
    "Considering all lines from the above example would now produce the following diagram:\n",
    "```\n",
    "1.1....11.\n",
    ".111...2..\n",
    "..2.1.111.\n",
    "...1.2.2..\n",
    ".112313211\n",
    "...1.2....\n",
    "..1...1...\n",
    ".1.....1..\n",
    "1.......1.\n",
    "222111....\n",
    "```\n",
    "You still need to determine the number of points where at least two lines overlap. In the above example, this is still anywhere in the diagram with a 2 or larger - now a total of `12` points.\n",
    "\n",
    "Consider all of the lines. At how many points do at least two lines overlap?\n",
    "\n"
   ]
  },
  {
   "cell_type": "code",
   "execution_count": 5,
   "metadata": {},
   "outputs": [],
   "source": [
    "grid = [[0 for _ in range(MAX_SIZE)] for _ in range(MAX_SIZE)]\n",
    "coords = []\n",
    "\n",
    "for line in ranges:\n",
    "    c1, c2 = line.split(' -> ')\n",
    "    x1,y1 = [int(_) for _ in c1.split(',')]\n",
    "    x2,y2 = [int(_) for _ in c2.split(',')]\n",
    "    \n",
    "    #print(line)\n",
    "\n",
    "    xstep = 1\n",
    "    ystep = 1\n",
    "    if y1 == y2:\n",
    "        # Horizontal\n",
    "        if x1 > x2:\n",
    "            xstep = -1\n",
    "        for x in range(x1, x2 + xstep, xstep):\n",
    "            #print(\"h\", x,y1)\n",
    "            grid[y1][x] += 1\n",
    "            coords.append(f\"{x},{y1}\")\n",
    "    elif x1 == x2:\n",
    "        # Vertical\n",
    "        if y1 > y2:\n",
    "            ystep = -1\n",
    "        for y in range(y1, y2 + ystep, ystep):\n",
    "            #print(\"v\", x1,y)\n",
    "            grid[y][x1] += 1\n",
    "            coords.append(f\"{x1},{y}\")\n",
    "    else:\n",
    "        # Diagonal\n",
    "        if x1 > x2:\n",
    "            xstep = -1\n",
    "        if y1 > y2:\n",
    "            ystep = -1\n",
    "        for x,y in zip(range(x1, x2 + xstep, xstep),range(y1, y2 + ystep, ystep)):\n",
    "            #print(\"d\", x,y)\n",
    "            grid[y][x] += 1\n",
    "            coords.append(f\"{x},{y}\")\n",
    "        "
   ]
  },
  {
   "cell_type": "code",
   "execution_count": 6,
   "metadata": {},
   "outputs": [
    {
     "name": "stdout",
     "output_type": "stream",
     "text": [
      "answer 2: 20484\n"
     ]
    }
   ],
   "source": [
    "count = 0\n",
    "for row in grid:\n",
    "    count += len([x for x in row if x >= 2])\n",
    "\n",
    "print(\"answer 2:\", count)\n"
   ]
  }
 ],
 "metadata": {
  "kernelspec": {
   "display_name": "Python 3.8.10 64-bit",
   "language": "python",
   "name": "python3"
  },
  "language_info": {
   "codemirror_mode": {
    "name": "ipython",
    "version": 3
   },
   "file_extension": ".py",
   "mimetype": "text/x-python",
   "name": "python",
   "nbconvert_exporter": "python",
   "pygments_lexer": "ipython3",
   "version": "3.8.10"
  },
  "orig_nbformat": 4,
  "vscode": {
   "interpreter": {
    "hash": "e7370f93d1d0cde622a1f8e1c04877d8463912d04d973331ad4851f04de6915a"
   }
  }
 },
 "nbformat": 4,
 "nbformat_minor": 2
}
