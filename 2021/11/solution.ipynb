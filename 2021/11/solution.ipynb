{
 "cells": [
  {
   "cell_type": "code",
   "execution_count": 1,
   "metadata": {},
   "outputs": [
    {
     "name": "stdout",
     "output_type": "stream",
     "text": [
      "\u001b[0maoc-cli 0.6.0\n",
      "\u001b[0mLoaded session cookie from \"/home/kev/.adventofcode.session\".\n",
      "Fetching puzzle for day 11, 2021...\n",
      "Saving puzzle description to \"README.md\"...\n",
      "Downloading input for day 11, 2021...\n",
      "Saving puzzle input to \"input.txt\"...\n",
      "Done!\n"
     ]
    }
   ],
   "source": [
    "import os\n",
    "import sys\n",
    "import statistics\n",
    "\n",
    "aoc_year, aoc_day = os.getcwd().split(os.sep)[-2:]\n",
    "\n",
    "# Download today puzzle & input\n",
    "!aoc --version\n",
    "!aoc download -i input.txt --overwrite -p README.md --year {aoc_year} --day {aoc_day}"
   ]
  },
  {
   "cell_type": "markdown",
   "metadata": {},
   "source": [
    "\\--- Day 11: Dumbo Octopus ---\n",
    "----------\n",
    "\n",
    "Given the starting energy levels of the dumbo octopuses in your cavern, simulate 100 steps. *How many total flashes are there after 100 steps?*"
   ]
  },
  {
   "cell_type": "code",
   "execution_count": 2,
   "metadata": {},
   "outputs": [
    {
     "name": "stdout",
     "output_type": "stream",
     "text": [
      "['1172728874',\n",
      " '6751454281',\n",
      " '2612343533',\n",
      " '1884877511',\n",
      " '7574346247',\n",
      " '2117413745']\n"
     ]
    }
   ],
   "source": [
    "from pprint import pprint\n",
    "\n",
    "with open('input.txt', 'rt') as f:\n",
    "    lines = [x.strip() for x in f.readlines()]\n",
    "\n",
    "# Verify parse\n",
    "pprint(lines[:6])"
   ]
  },
  {
   "cell_type": "code",
   "execution_count": 3,
   "metadata": {},
   "outputs": [
    {
     "data": {
      "text/plain": [
       "[[1, 1, 7, 2, 7, 2, 8, 8, 7, 4],\n",
       " [6, 7, 5, 1, 4, 5, 4, 2, 8, 1],\n",
       " [2, 6, 1, 2, 3, 4, 3, 5, 3, 3],\n",
       " [1, 8, 8, 4, 8, 7, 7, 5, 1, 1],\n",
       " [7, 5, 7, 4, 3, 4, 6, 2, 4, 7],\n",
       " [2, 1, 1, 7, 4, 1, 3, 7, 4, 5],\n",
       " [7, 7, 6, 6, 7, 3, 6, 5, 1, 7],\n",
       " [4, 3, 3, 1, 7, 8, 3, 4, 4, 4],\n",
       " [4, 8, 4, 1, 2, 1, 5, 8, 2, 8],\n",
       " [6, 8, 5, 7, 7, 6, 6, 2, 7, 3]]"
      ]
     },
     "execution_count": 3,
     "metadata": {},
     "output_type": "execute_result"
    }
   ],
   "source": [
    "octopi = [[int(x) for x in list(line)] for line in lines]\n",
    "octopi"
   ]
  },
  {
   "cell_type": "code",
   "execution_count": 4,
   "metadata": {},
   "outputs": [],
   "source": [
    "import itertools\n",
    "\n",
    "def adjacent(row, col, bounds=range(10)):\n",
    "    \"\"\"Generate adjacent coords within bounds\"\"\"\n",
    "    coords = [_ for _ in itertools.product([_ for _ in range(-1, 2)], [_ for _ in range(-1, 2)])]\n",
    "    # Remove (0,0)\n",
    "    coords.pop(4)\n",
    "    # Offset by row,col\n",
    "    coords = [(row+ri, col+ci) for ri, ci in coords]\n",
    "    # Trim to bounds\n",
    "    coords = [(r,c) for r,c in coords if r in bounds and c in bounds]\n",
    "    return coords"
   ]
  },
  {
   "cell_type": "code",
   "execution_count": 5,
   "metadata": {},
   "outputs": [],
   "source": [
    "\n",
    "def dumbo_step(grid) -> int:\n",
    "    flashes = 0\n",
    "    # Increment energy\n",
    "    grid = [[c+1 for c in row] for row in grid]\n",
    "    # Loop while energy > 9    \n",
    "    while max([max(row) for row in grid]) > 9:\n",
    "        # Iterate over grid, trigger flash\n",
    "        for r, row in enumerate(grid):\n",
    "            for c, energy in enumerate(row):\n",
    "                if energy > 9:\n",
    "                    flashes += 1\n",
    "                    grid[r][c] = 0\n",
    "                    # Increment adjacent\n",
    "                    for rx,cx in adjacent(r,c):\n",
    "                        if grid[rx][cx] > 0:\n",
    "                            grid[rx][cx] += 1\n",
    "    return grid, flashes\n"
   ]
  },
  {
   "cell_type": "code",
   "execution_count": 6,
   "metadata": {},
   "outputs": [
    {
     "name": "stdout",
     "output_type": "stream",
     "text": [
      "answer 1: 1644\n"
     ]
    }
   ],
   "source": [
    "grid = octopi.copy()\n",
    "total_flashes = 0\n",
    "for i in range(100):\n",
    "    grid, flashes = dumbo_step(grid)\n",
    "    total_flashes += flashes\n",
    "\n",
    "answer1 = total_flashes\n",
    "print(\"answer 1:\", answer1)"
   ]
  },
  {
   "cell_type": "markdown",
   "metadata": {},
   "source": [
    "----"
   ]
  },
  {
   "cell_type": "code",
   "execution_count": 7,
   "metadata": {},
   "outputs": [
    {
     "name": "stdout",
     "output_type": "stream",
     "text": [
      "Loaded session cookie from \"/home/kev/.adventofcode.session\".\n",
      "Fetching puzzle for day 11, 2021...\n",
      "Saving puzzle description to \"README.md\"...\n",
      "Done!\n"
     ]
    }
   ],
   "source": [
    "# Download part 2\n",
    "!aoc download --description-only --overwrite --puzzle-file README.md --year {aoc_year} --day {aoc_day}"
   ]
  },
  {
   "cell_type": "markdown",
   "metadata": {},
   "source": [
    "\\--- Part Two ---\n",
    "----------\n",
    "\n",
    "If you can calculate the exact moments when the octopuses will all flash simultaneously, you should be able to navigate through the cavern. *What is the first step during which all octopuses flash?*\n"
   ]
  },
  {
   "cell_type": "code",
   "execution_count": 8,
   "metadata": {},
   "outputs": [
    {
     "name": "stdout",
     "output_type": "stream",
     "text": [
      "answer 2: 229\n"
     ]
    }
   ],
   "source": [
    "grid = octopi.copy()\n",
    "answer2 = 0\n",
    "while sum([sum(row) for row in grid]) > 0:\n",
    "    grid, flashes = dumbo_step(grid)\n",
    "    answer2 += 1\n",
    "\n",
    "print(\"answer 2:\", answer2)"
   ]
  },
  {
   "cell_type": "code",
   "execution_count": null,
   "metadata": {},
   "outputs": [],
   "source": []
  }
 ],
 "metadata": {
  "kernelspec": {
   "display_name": "Python 3.8.10 64-bit",
   "language": "python",
   "name": "python3"
  },
  "language_info": {
   "codemirror_mode": {
    "name": "ipython",
    "version": 3
   },
   "file_extension": ".py",
   "mimetype": "text/x-python",
   "name": "python",
   "nbconvert_exporter": "python",
   "pygments_lexer": "ipython3",
   "version": "3.8.10"
  },
  "orig_nbformat": 4,
  "vscode": {
   "interpreter": {
    "hash": "e7370f93d1d0cde622a1f8e1c04877d8463912d04d973331ad4851f04de6915a"
   }
  }
 },
 "nbformat": 4,
 "nbformat_minor": 2
}
