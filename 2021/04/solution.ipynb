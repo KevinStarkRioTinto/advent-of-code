{
 "cells": [
  {
   "cell_type": "markdown",
   "metadata": {},
   "source": [
    "https://adventofcode.com/2021/day/4"
   ]
  },
  {
   "cell_type": "markdown",
   "metadata": {},
   "source": [
    "# --- Day 4: Giant Squid ---\n",
    "You're already almost 1.5km (almost a mile) below the surface of the ocean, already so deep that you can't see any sunlight. What you can see, however, is a giant squid that has attached itself to the outside of your submarine.\n",
    "\n",
    "Maybe it wants to play bingo?\n",
    "\n",
    "Bingo is played on a set of boards each consisting of a 5x5 grid of numbers. Numbers are chosen at random, and the chosen number is marked on all boards on which it appears. (Numbers may not appear on all boards.) If all numbers in any row or any column of a board are marked, that board wins. (Diagonals don't count.)\n",
    "\n",
    "The submarine has a bingo subsystem to help passengers (currently, you and the giant squid) pass the time. It automatically generates a random order in which to draw numbers and a random set of boards (your puzzle input). For example:\n",
    "```\n",
    "7,4,9,5,11,17,23,2,0,14,21,24,10,16,13,6,15,25,12,22,18,20,8,19,3,26,1\n",
    "\n",
    "22 13 17 11  0\n",
    " 8  2 23  4 24\n",
    "21  9 14 16  7\n",
    " 6 10  3 18  5\n",
    " 1 12 20 15 19\n",
    "\n",
    " 3 15  0  2 22\n",
    " 9 18 13 17  5\n",
    "19  8  7 25 23\n",
    "20 11 10 24  4\n",
    "14 21 16 12  6\n",
    "\n",
    "14 21 17 24  4\n",
    "10 16 15  9 19\n",
    "18  8 23 26 20\n",
    "22 11 13  6  5\n",
    " 2  0 12  3  7\n",
    " ```\n",
    "After the first five numbers are drawn (`7, 4, 9, 5, and 11`), there are no winners, but the boards are marked as follows (shown here adjacent to each other to save space):\n",
    "```\n",
    "22 13 17 11  0         3 15  0  2 22        14 21 17 24  4\n",
    " 8  2 23  4 24         9 18 13 17  5        10 16 15  9 19\n",
    "21  9 14 16  7        19  8  7 25 23        18  8 23 26 20\n",
    " 6 10  3 18  5        20 11 10 24  4        22 11 13  6  5\n",
    " 1 12 20 15 19        14 21 16 12  6         2  0 12  3  7\n",
    " ```\n",
    "After the next six numbers are drawn (17, 23, 2, 0, 14, and 21), there are still no winners:\n",
    "```\n",
    "22 13 17 11  0         3 15  0  2 22        14 21 17 24  4\n",
    " 8  2 23  4 24         9 18 13 17  5        10 16 15  9 19\n",
    "21  9 14 16  7        19  8  7 25 23        18  8 23 26 20\n",
    " 6 10  3 18  5        20 11 10 24  4        22 11 13  6  5\n",
    " 1 12 20 15 19        14 21 16 12  6         2  0 12  3  7\n",
    " ```\n",
    "Finally, 24 is drawn:\n",
    "```\n",
    "22 13 17 11  0         3 15  0  2 22        14 21 17 24  4\n",
    " 8  2 23  4 24         9 18 13 17  5        10 16 15  9 19\n",
    "21  9 14 16  7        19  8  7 25 23        18  8 23 26 20\n",
    " 6 10  3 18  5        20 11 10 24  4        22 11 13  6  5\n",
    " 1 12 20 15 19        14 21 16 12  6         2  0 12  3  7\n",
    " ```\n",
    "At this point, the third board wins because it has at least one complete row or column of marked numbers (in this case, the entire top row is marked: `14 21 17 24 4`).\n",
    "\n",
    "The score of the winning board can now be calculated. Start by finding the sum of all unmarked numbers on that board; in this case, the sum is `188`. Then, multiply that sum by the number that was just called when the board won, `24`, to get the final score, `188 * 24 = 4512`.\n",
    "\n",
    "To guarantee victory against the giant squid, figure out which board will win first. What will your final score be if you choose that board?"
   ]
  },
  {
   "cell_type": "code",
   "execution_count": 1,
   "metadata": {},
   "outputs": [
    {
     "name": "stdout",
     "output_type": "stream",
     "text": [
      "draw: ['23', '30', '70', '61', '79', '49', '19', '37', '64', '48', '72', '34', '69', '53', '15', '74', '89', '38', '46', '36', '28', '32', '45', '2', '39', '58', '11', '62', '97', '40', '14', '87', '96', '94', '91', '92', '80', '99', '6', '31', '57', '98', '65', '10', '33', '63', '42', '17', '47', '66', '26', '22', '73', '27', '7', '0', '55', '8', '56', '29', '86', '25', '4', '12', '51', '60', '35', '50', '5', '75', '95', '44', '16', '93', '21', '3', '24', '52', '77', '76', '43', '41', '9', '84', '67', '71', '83', '88', '59', '68', '85', '82', '1', '18', '13', '78', '20', '90', '81', '54']\n",
      "board_lines: ['', '50 98 65 14 47', '0 22  3 83 46', '87 93 81 84 58', '40 35 28 74 48', '45 99 59 37 64']\n"
     ]
    }
   ],
   "source": [
    "with open('input.txt', 'rt') as f:\n",
    "    draw = f.readline().strip().split(',')\n",
    "    board_lines = [_.strip() for _ in f.readlines()]\n",
    "\n",
    "print(\"draw:\", draw)\n",
    "print(\"board_lines:\", board_lines[:6])"
   ]
  },
  {
   "cell_type": "code",
   "execution_count": 2,
   "metadata": {},
   "outputs": [],
   "source": [
    "# Convert draw to ints\n",
    "draw = [int(_) for _ in draw]"
   ]
  },
  {
   "cell_type": "code",
   "execution_count": 3,
   "metadata": {},
   "outputs": [
    {
     "name": "stdout",
     "output_type": "stream",
     "text": [
      "[[50, 98, 65, 14, 47], [0, 22, 3, 83, 46], [87, 93, 81, 84, 58], [40, 35, 28, 74, 48], [45, 99, 59, 37, 64]]\n",
      "[[85, 66, 90, 32, 88], [95, 6, 4, 74, 27], [1, 10, 70, 41, 92], [54, 36, 42, 9, 39], [60, 99, 31, 67, 16]]\n",
      "[[4, 44, 66, 10, 58], [33, 64, 93, 42, 46], [19, 63, 6, 83, 54], [60, 51, 76, 8, 30], [71, 49, 73, 7, 55]]\n",
      "[[17, 67, 52, 61, 98], [46, 5, 4, 51, 76], [73, 59, 74, 8, 33], [48, 96, 20, 26, 15], [55, 19, 86, 29, 43]]\n",
      "[[20, 75, 12, 67, 41], [89, 36, 65, 66, 92], [40, 19, 1, 0, 28], [99, 61, 85, 58, 50], [44, 72, 57, 35, 86]]\n",
      "[[69, 87, 27, 59, 33], [47, 34, 60, 93, 9], [71, 84, 46, 24, 96], [15, 91, 5, 61, 19], [57, 78, 55, 31, 8]]\n"
     ]
    }
   ],
   "source": [
    "# Convert lines to grouped boards\n",
    "boards = []\n",
    "for line in board_lines:\n",
    "    if line == '':\n",
    "        boards.append([])\n",
    "        continue\n",
    "    \n",
    "    boards[-1].append([int(_) for _ in line.split()])\n",
    "\n",
    "for _ in boards[:6]:\n",
    "    print(_)"
   ]
  },
  {
   "cell_type": "code",
   "execution_count": 4,
   "metadata": {},
   "outputs": [],
   "source": [
    "def evaluate_board(board, draw):\n",
    "    win = ''\n",
    "    unmarked = []\n",
    "\n",
    "    # Check each row\n",
    "    for i in range(0, len(board)):\n",
    "        row = [x for x in board[i] if x not in draw]\n",
    "        unmarked += row\n",
    "        if len(row) == 0:\n",
    "            win = f\"R{i+1}\"\n",
    "\n",
    "    # Check each column\n",
    "    for i in range(0, len(board)):\n",
    "        col = [x for x in [r[i] for r in board] if x not in draw]\n",
    "        unmarked += col\n",
    "        if len(col) == 0:\n",
    "            win = f\"C{i+1}\"\n",
    "\n",
    "    return win, list(set(unmarked))"
   ]
  },
  {
   "cell_type": "code",
   "execution_count": 5,
   "metadata": {},
   "outputs": [
    {
     "name": "stdout",
     "output_type": "stream",
     "text": [
      "21 48 R2 [97, 98, 68, 4, 6, 39, 40, 11, 14, 80, 81, 52, 55, 88, 60, 63, 95, 31]\n",
      "answer 1: 31424\n"
     ]
    }
   ],
   "source": [
    "for i, num in enumerate(draw):\n",
    "    for j, board in enumerate(boards):\n",
    "        result, unmarked = evaluate_board(board, draw[:i+1])\n",
    "        if result != '':\n",
    "            break\n",
    "    if result != '':\n",
    "        break\n",
    "\n",
    "print(i, j, result, unmarked)\n",
    "print(\"answer 1:\", sum(unmarked) * draw[i])"
   ]
  },
  {
   "cell_type": "markdown",
   "metadata": {},
   "source": [
    "## --- Part Two ---\n",
    "On the other hand, it might be wise to try a different strategy: let the giant squid win.\n",
    "\n",
    "You aren't sure how many bingo boards a giant squid could play at once, so rather than waste time counting its arms, the safe thing to do is to figure out which board will win last and choose that one. That way, no matter which boards it picks, it will win for sure.\n",
    "\n",
    "In the above example, the second board is the last to win, which happens after `13` is eventually called and its middle column is completely marked. If you were to keep playing until this point, the second board would have a sum of unmarked numbers equal to 148 for a final score of `148 * 13 = 1924`.\n",
    "\n",
    "Figure out which board will win last. Once it wins, what would its final score be?"
   ]
  },
  {
   "cell_type": "code",
   "execution_count": 6,
   "metadata": {},
   "outputs": [
    {
     "name": "stdout",
     "output_type": "stream",
     "text": [
      "90 15 R2 [1, 13, 78, 81, 18, 90]\n",
      "answer 2: 23042\n"
     ]
    }
   ],
   "source": [
    "for i, num in reversed(list(enumerate(draw))):\n",
    "    for j, board in enumerate(boards):\n",
    "        result, unmarked = evaluate_board(board, draw[:i+1])\n",
    "        if result == '':\n",
    "            break\n",
    "    if result == '':\n",
    "        break\n",
    "\n",
    "# Recalculate, with last incremental draw completed\n",
    "result, unmarked = evaluate_board(board, draw[:i+2])\n",
    "\n",
    "print(i, j, result, unmarked)\n",
    "print(\"answer 2:\", sum(unmarked) * draw[i+1])"
   ]
  }
 ],
 "metadata": {
  "kernelspec": {
   "display_name": "Python 3.8.10 64-bit",
   "language": "python",
   "name": "python3"
  },
  "language_info": {
   "codemirror_mode": {
    "name": "ipython",
    "version": 3
   },
   "file_extension": ".py",
   "mimetype": "text/x-python",
   "name": "python",
   "nbconvert_exporter": "python",
   "pygments_lexer": "ipython3",
   "version": "3.8.10"
  },
  "orig_nbformat": 4,
  "vscode": {
   "interpreter": {
    "hash": "e7370f93d1d0cde622a1f8e1c04877d8463912d04d973331ad4851f04de6915a"
   }
  }
 },
 "nbformat": 4,
 "nbformat_minor": 2
}
