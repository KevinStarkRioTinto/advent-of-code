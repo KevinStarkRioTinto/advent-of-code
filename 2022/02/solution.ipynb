{
 "cells": [
  {
   "cell_type": "markdown",
   "metadata": {},
   "source": [
    "# --- Day 2: Rock Paper Scissors ---\n",
    "The Elves begin to set up camp on the beach. To decide whose tent gets to be closest to the snack storage, a giant Rock Paper Scissors tournament is already in progress.\n",
    "\n",
    "Rock Paper Scissors is a game between two players. Each game contains many rounds; in each round, the players each simultaneously choose one of Rock, Paper, or Scissors using a hand shape. Then, a winner for that round is selected: Rock defeats Scissors, Scissors defeats Paper, and Paper defeats Rock. If both players choose the same shape, the round instead ends in a draw.\n",
    "\n",
    "Appreciative of your help yesterday, one Elf gives you an encrypted strategy guide (your puzzle input) that they say will be sure to help you win. \"The first column is what your opponent is going to play: `A` for Rock, `B` for Paper, and `C` for Scissors. The second column--\" Suddenly, the Elf is called away to help with someone's tent.\n",
    "\n",
    "The second column, you reason, must be what you should play in response: `X` for Rock, `Y` for Paper, and `Z` for Scissors. Winning every time would be suspicious, so the responses must have been carefully chosen.\n",
    "\n",
    "The winner of the whole tournament is the player with the highest score. Your total score is the sum of your scores for each round. The score for a single round is the score for the shape you selected (`1` for Rock, `2` for Paper, and `3` for Scissors) plus the score for the outcome of the round (`0` if you lost, `3` if the round was a draw, and `6` if you won).\n",
    "\n",
    "Since you can't be sure if the Elf is trying to help you or trick you, you should calculate the score you would get if you were to follow the strategy guide.\n",
    "\n",
    "For example, suppose you were given the following strategy guide:\n",
    "```\n",
    "A Y\n",
    "B X\n",
    "C Z\n",
    "```\n",
    "This strategy guide predicts and recommends the following:\n",
    "\n",
    "- In the first round, your opponent will choose Rock (`A`), and you should choose Paper (`Y`). This ends in a win for you with a score of `8` (`2` because you chose Paper `+ 6` because you won).\n",
    "- In the second round, your opponent will choose Paper (`B`), and you should choose Rock (`X`). This ends in a loss for you with a score of `1 (1 + 0)`.\n",
    "- The third round is a draw with both players choosing Scissors, giving you a score of `3 + 3 = 6`.\n",
    "In this example, if you were to follow the strategy guide, you would get a total score of `15 (8 + 1 + 6)`.\n",
    "\n",
    "What would your total score be if everything goes exactly according to your strategy guide?\n",
    "\n"
   ]
  },
  {
   "cell_type": "code",
   "execution_count": 1,
   "metadata": {},
   "outputs": [
    {
     "name": "stdout",
     "output_type": "stream",
     "text": [
      "[['A', 'Y'], ['A', 'Z'], ['A', 'X'], ['B', 'X'], ['A', 'Y'], ['B', 'Y']]\n"
     ]
    }
   ],
   "source": [
    "with open(\"input.txt\", 'rt') as f:\n",
    "    lines = [_.strip().split(' ') for _ in f.readlines()]\n",
    "\n",
    "print(lines[:6])"
   ]
  },
  {
   "cell_type": "code",
   "execution_count": 2,
   "metadata": {},
   "outputs": [],
   "source": [
    "lookup = {\n",
    "    \"A\": \"Rock\",\n",
    "    \"B\": \"Paper\",\n",
    "    \"C\": \"Scissors\",\n",
    "    \"X\": \"Rock\",\n",
    "    \"Y\": \"Paper\",\n",
    "    \"Z\": \"Scissors\",\n",
    "}\n",
    "game = {\n",
    "    \"Rock<-Rock\": \"Draw\",\n",
    "    \"Rock<-Paper\": \"Win\",\n",
    "    \"Rock<-Scissors\": \"Loss\",\n",
    "    \"Paper<-Rock\": \"Loss\",\n",
    "    \"Paper<-Paper\": \"Draw\",\n",
    "    \"Paper<-Scissors\": \"Win\",\n",
    "    \"Scissors<-Rock\": \"Win\",\n",
    "    \"Scissors<-Paper\": \"Loss\",\n",
    "    \"Scissors<-Scissors\": \"Draw\",\n",
    "}\n",
    "points = {\n",
    "    \"Rock\": 1,\n",
    "    \"Paper\": 2,\n",
    "    \"Scissors\": 3,\n",
    "    \"Loss\": 0,\n",
    "    \"Draw\": 3,\n",
    "    \"Win\": 6,\n",
    "}"
   ]
  },
  {
   "cell_type": "code",
   "execution_count": 3,
   "metadata": {},
   "outputs": [
    {
     "name": "stdout",
     "output_type": "stream",
     "text": [
      "Rock <- Paper = Win +8 {8}\n",
      "Rock <- Scissors = Loss +3 {11}\n",
      "Rock <- Rock = Draw +4 {15}\n",
      "Paper <- Rock = Loss +1 {16}\n",
      "Rock <- Paper = Win +8 {24}\n",
      "Paper <- Paper = Draw +5 {29}\n",
      "Paper <- Paper = Draw +5 {34}\n",
      "Rock <- Rock = Draw +4 {38}\n",
      "Rock <- Scissors = Loss +3 {41}\n",
      "answer 1: 10595\n"
     ]
    }
   ],
   "source": [
    "score = 0\n",
    "i = 0\n",
    "\n",
    "for p1, p2 in lines:\n",
    "    p1 = lookup[p1]\n",
    "    p2 = lookup[p2]\n",
    "    play = f\"{p1}<-{p2}\"\n",
    "    play_result = game[play]\n",
    "    play_points = points[p2] + points[play_result]\n",
    "\n",
    "    score += play_points\n",
    "    i+=1\n",
    "\n",
    "    if i<10:\n",
    "        print(f\"{p1} <- {p2} = {play_result} +{play_points} {{{score}}}\")\n",
    "\n",
    "\n",
    "print(\"answer 1:\", score)"
   ]
  },
  {
   "cell_type": "markdown",
   "metadata": {},
   "source": [
    "## --- Part Two ---\n",
    "The Elf finishes helping with the tent and sneaks back over to you. \"Anyway, the second column says how the round needs to end: `X` means you need to lose, `Y` means you need to end the round in a draw, and `Z` means you need to win. Good luck!\"\n",
    "\n",
    "The total score is still calculated in the same way, but now you need to figure out what shape to choose so the round ends as indicated. The example above now goes like this:\n",
    "\n",
    "- In the first round, your opponent will choose Rock (`A`), and you need the round to end in a draw (`Y`), so you also choose Rock. This gives you a score of `1 + 3 = 4`.\n",
    "- In the second round, your opponent will choose Paper (`B`), and you choose Rock so you lose (`X`) with a score of `1 + 0 = 1`.\n",
    "- In the third round, you will defeat your opponent's Scissors with Rock for a score of `1 + 6 = 7`.\n",
    "Now that you're correctly decrypting the ultra top secret strategy guide, you would get a total score of `12`.\n",
    "\n",
    "Following the Elf's instructions for the second column, what would your total score be if everything goes exactly according to your strategy guide?\n",
    "\n"
   ]
  },
  {
   "cell_type": "code",
   "execution_count": 4,
   "metadata": {},
   "outputs": [],
   "source": [
    "lookup = {\n",
    "    \"A\": \"Rock\",\n",
    "    \"B\": \"Paper\",\n",
    "    \"C\": \"Scissors\",\n",
    "    \"X\": \"Loss\",\n",
    "    \"Y\": \"Draw\",\n",
    "    \"Z\": \"Win\",\n",
    "}\n",
    "game = {\n",
    "    \"Rock<-Loss\": \"Scissors\",\n",
    "    \"Rock<-Draw\": \"Rock\",\n",
    "    \"Rock<-Win\":  \"Paper\",\n",
    "    \"Paper<-Loss\": \"Rock\",\n",
    "    \"Paper<-Draw\": \"Paper\",\n",
    "    \"Paper<-Win\":  \"Scissors\",\n",
    "    \"Scissors<-Loss\": \"Paper\",\n",
    "    \"Scissors<-Draw\": \"Scissors\",\n",
    "    \"Scissors<-Win\":  \"Rock\",\n",
    "}"
   ]
  },
  {
   "cell_type": "code",
   "execution_count": 5,
   "metadata": {},
   "outputs": [
    {
     "name": "stdout",
     "output_type": "stream",
     "text": [
      "Rock <- Rock = Draw +4 {4}\n",
      "Rock <- Paper = Win +8 {12}\n",
      "Rock <- Scissors = Loss +3 {15}\n",
      "Paper <- Rock = Loss +1 {16}\n",
      "Rock <- Rock = Draw +4 {20}\n",
      "Paper <- Paper = Draw +5 {25}\n",
      "Paper <- Paper = Draw +5 {30}\n",
      "Rock <- Scissors = Loss +3 {33}\n",
      "Rock <- Paper = Win +8 {41}\n",
      "answer 2: 9541\n"
     ]
    }
   ],
   "source": [
    "score = 0\n",
    "i=0\n",
    "\n",
    "for p1, play_result in lines:\n",
    "    p1 = lookup[p1]\n",
    "    play_result = lookup[play_result]\n",
    "    play = f\"{p1}<-{play_result}\"\n",
    "    p2 = game[play]\n",
    "    play_points = points[p2] + points[play_result]\n",
    "\n",
    "    score += play_points\n",
    "    i+=1\n",
    "\n",
    "    if i<10:\n",
    "        print(f\"{p1} <- {p2} = {play_result} +{play_points} {{{score}}}\")\n",
    "\n",
    "print(\"answer 2:\", score)"
   ]
  },
  {
   "cell_type": "code",
   "execution_count": null,
   "metadata": {},
   "outputs": [],
   "source": []
  }
 ],
 "metadata": {
  "kernelspec": {
   "display_name": "Python 3.8.10 64-bit",
   "language": "python",
   "name": "python3"
  },
  "language_info": {
   "codemirror_mode": {
    "name": "ipython",
    "version": 3
   },
   "file_extension": ".py",
   "mimetype": "text/x-python",
   "name": "python",
   "nbconvert_exporter": "python",
   "pygments_lexer": "ipython3",
   "version": "3.8.10"
  },
  "orig_nbformat": 4,
  "vscode": {
   "interpreter": {
    "hash": "e7370f93d1d0cde622a1f8e1c04877d8463912d04d973331ad4851f04de6915a"
   }
  }
 },
 "nbformat": 4,
 "nbformat_minor": 2
}
