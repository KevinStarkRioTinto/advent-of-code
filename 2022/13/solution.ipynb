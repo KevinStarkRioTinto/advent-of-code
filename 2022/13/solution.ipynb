{
 "cells": [
  {
   "cell_type": "code",
   "execution_count": 27,
   "metadata": {},
   "outputs": [
    {
     "name": "stdout",
     "output_type": "stream",
     "text": [
      "\u001b[0maoc-cli 0.6.0\n",
      "\u001b[0mLoaded session cookie from \"/home/kev/.adventofcode.session\".\n",
      "Fetching puzzle for day 13, 2022...\n",
      "Saving puzzle description to \"README.md\"...\n",
      "Downloading input for day 13, 2022...\n",
      "Saving puzzle input to \"input.txt\"...\n",
      "Done!\n"
     ]
    }
   ],
   "source": [
    "import os\n",
    "import sys\n",
    "import statistics\n",
    "\n",
    "aoc_year, aoc_day = os.getcwd().split(os.sep)[-2:]\n",
    "\n",
    "# Download today puzzle & input\n",
    "!aoc --version\n",
    "!aoc download -i input.txt --overwrite -p README.md --year {aoc_year} --day {aoc_day}"
   ]
  },
  {
   "attachments": {},
   "cell_type": "markdown",
   "metadata": {},
   "source": [
    "\\--- Day 13: Distress Signal ---\n",
    "----------\n",
    "\n",
    "You climb the hill and again try contacting the Elves. However, you instead receive a signal you weren't expecting: a *distress signal*.\n",
    "\n",
    "Your handheld device must still not be working properly; the packets from the distress signal got decoded *out of order*. You'll need to re-order the list of received packets (your puzzle input) to decode the message.\n",
    "\n",
    "Your list consists of pairs of packets; pairs are separated by a blank line. You need to identify *how many pairs of packets are in the right order*.\n",
    "\n",
    "For example:\n",
    "\n",
    "```\n",
    "[1,1,3,1,1]\n",
    "[1,1,5,1,1]\n",
    "\n",
    "[[1],[2,3,4]]\n",
    "[[1],4]\n",
    "\n",
    "[9]\n",
    "[[8,7,6]]\n",
    "\n",
    "[[4,4],4,4]\n",
    "[[4,4],4,4,4]\n",
    "\n",
    "[7,7,7,7]\n",
    "[7,7,7]\n",
    "\n",
    "[]\n",
    "[3]\n",
    "\n",
    "[[[]]]\n",
    "[[]]\n",
    "\n",
    "[1,[2,[3,[4,[5,6,7]]]],8,9]\n",
    "[1,[2,[3,[4,[5,6,0]]]],8,9]\n",
    "\n",
    "```\n",
    "\n",
    "Packet data consists of lists and integers. Each list starts with `[`, ends with `]`, and contains zero or more comma-separated values (either integers or other lists). Each packet is always a list and appears on its own line.\n",
    "\n",
    "When comparing two values, the first value is called *left* and the second value is called *right*. Then:\n",
    "\n",
    "* If *both values are integers*, the *lower integer* should come first. If the left integer is lower than the right integer, the inputs are in the right order. If the left integer is higher than the right integer, the inputs are not in the right order. Otherwise, the inputs are the same integer; continue checking the next part of the input.\n",
    "* If *both values are lists*, compare the first value of each list, then the second value, and so on. If the left list runs out of items first, the inputs are in the right order. If the right list runs out of items first, the inputs are not in the right order. If the lists are the same length and no comparison makes a decision about the order, continue checking the next part of the input.\n",
    "* If *exactly one value is an integer*, convert the integer to a list which contains that integer as its only value, then retry the comparison. For example, if comparing `[0,0,0]` and `2`, convert the right value to `[2]` (a list containing `2`); the result is then found by instead comparing `[0,0,0]` and `[2]`.\n",
    "\n",
    "Using these rules, you can determine which of the pairs in the example are in the right order:\n",
    "\n",
    "```\n",
    "== Pair 1 ==\n",
    "- Compare [1,1,3,1,1] vs [1,1,5,1,1]\n",
    "  - Compare 1 vs 1\n",
    "  - Compare 1 vs 1\n",
    "  - Compare 3 vs 5\n",
    "    - Left side is smaller, so inputs are in the right order\n",
    "\n",
    "== Pair 2 ==\n",
    "- Compare [[1],[2,3,4]] vs [[1],4]\n",
    "  - Compare [1] vs [1]\n",
    "    - Compare 1 vs 1\n",
    "  - Compare [2,3,4] vs 4\n",
    "    - Mixed types; convert right to [4] and retry comparison\n",
    "    - Compare [2,3,4] vs [4]\n",
    "      - Compare 2 vs 4\n",
    "        - Left side is smaller, so inputs are in the right order\n",
    "\n",
    "== Pair 3 ==\n",
    "- Compare [9] vs [[8,7,6]]\n",
    "  - Compare 9 vs [8,7,6]\n",
    "    - Mixed types; convert left to [9] and retry comparison\n",
    "    - Compare [9] vs [8,7,6]\n",
    "      - Compare 9 vs 8\n",
    "        - Right side is smaller, so inputs are not in the right order\n",
    "\n",
    "== Pair 4 ==\n",
    "- Compare [[4,4],4,4] vs [[4,4],4,4,4]\n",
    "  - Compare [4,4] vs [4,4]\n",
    "    - Compare 4 vs 4\n",
    "    - Compare 4 vs 4\n",
    "  - Compare 4 vs 4\n",
    "  - Compare 4 vs 4\n",
    "  - Left side ran out of items, so inputs are in the right order\n",
    "\n",
    "== Pair 5 ==\n",
    "- Compare [7,7,7,7] vs [7,7,7]\n",
    "  - Compare 7 vs 7\n",
    "  - Compare 7 vs 7\n",
    "  - Compare 7 vs 7\n",
    "  - Right side ran out of items, so inputs are not in the right order\n",
    "\n",
    "== Pair 6 ==\n",
    "- Compare [] vs [3]\n",
    "  - Left side ran out of items, so inputs are in the right order\n",
    "\n",
    "== Pair 7 ==\n",
    "- Compare [[[]]] vs [[]]\n",
    "  - Compare [[]] vs []\n",
    "    - Right side ran out of items, so inputs are not in the right order\n",
    "\n",
    "== Pair 8 ==\n",
    "- Compare [1,[2,[3,[4,[5,6,7]]]],8,9] vs [1,[2,[3,[4,[5,6,0]]]],8,9]\n",
    "  - Compare 1 vs 1\n",
    "  - Compare [2,[3,[4,[5,6,7]]]] vs [2,[3,[4,[5,6,0]]]]\n",
    "    - Compare 2 vs 2\n",
    "    - Compare [3,[4,[5,6,7]]] vs [3,[4,[5,6,0]]]\n",
    "      - Compare 3 vs 3\n",
    "      - Compare [4,[5,6,7]] vs [4,[5,6,0]]\n",
    "        - Compare 4 vs 4\n",
    "        - Compare [5,6,7] vs [5,6,0]\n",
    "          - Compare 5 vs 5\n",
    "          - Compare 6 vs 6\n",
    "          - Compare 7 vs 0\n",
    "            - Right side is smaller, so inputs are not in the right order\n",
    "\n",
    "```\n",
    "\n",
    "What are the indices of the pairs that are already *in the right order*? (The first pair has index 1, the second pair has index 2, and so on.) In the above example, the pairs in the right order are 1, 2, 4, and 6; the sum of these indices is `*13*`.\n",
    "\n",
    "Determine which pairs of packets are already in the right order. *What is the sum of the indices of those pairs?*\n"
   ]
  },
  {
   "cell_type": "code",
   "execution_count": 28,
   "metadata": {},
   "outputs": [
    {
     "name": "stdout",
     "output_type": "stream",
     "text": [
      "['[[1,0,[0]]]',\n",
      " '[[[8,[10]],7],[[4,[2,0,10,9,6],7,[2]],[[7,2,1,7,0],[9,4,5]],[6,6,[5,1,2,1,7],[8,0,6]]],[[],3,[[4,1,7,6,0]],6],[[[1,0],9,[10,7,9,8,8]],[[1,1,5,2]]]]',\n",
      " '',\n",
      " '[[[[0,6,2],[8,7,7],5,9],3],[[],[[6,1,10,6,2],1,0]]]',\n",
      " '[[[1,[0],[3,10,0,8],[1,7]],0,0,[[5,8,3],[4,7],10]]]',\n",
      " '']\n"
     ]
    }
   ],
   "source": [
    "from pprint import pprint\n",
    "\n",
    "with open('input.txt', 'rt') as f:\n",
    "    lines = [x.strip() for x in f.readlines()]\n",
    "\n",
    "# Verify parse\n",
    "pprint(lines[:6])"
   ]
  },
  {
   "cell_type": "code",
   "execution_count": 29,
   "metadata": {},
   "outputs": [],
   "source": [
    "def parse_packets(lines):\n",
    "    packets = []\n",
    "    while len(lines) > 0:\n",
    "        packet = (\n",
    "            eval(lines.pop(0)),\n",
    "            eval(lines.pop(0))\n",
    "        )\n",
    "        packets.append(packet)\n",
    "        if len(lines) > 0: lines.pop(0)\n",
    "    return packets\n",
    "\n",
    "packets = parse_packets(lines.copy())"
   ]
  },
  {
   "cell_type": "code",
   "execution_count": 30,
   "metadata": {},
   "outputs": [
    {
     "name": "stdout",
     "output_type": "stream",
     "text": [
      "True 2\n",
      "True 2\n",
      "True -1\n",
      "True 1\n",
      "True -1\n",
      "True 1\n",
      "True -1\n",
      "True -7\n"
     ]
    }
   ],
   "source": [
    "def packet_compare(left, right, depth_stop = 100):\n",
    "    assert depth_stop > 0, f\"Max recursion: left={left} right={right}\"\n",
    "    # Enure lists\n",
    "    left = left if isinstance(left, list) else [left]\n",
    "    right = right if isinstance(right, list) else [right]\n",
    "    \n",
    "    # Iterate through lists\n",
    "    for ileft, iright in zip(left, right):\n",
    "        if isinstance(ileft, list) or isinstance(iright, list):\n",
    "            # Compare as list elements\n",
    "            diff = packet_compare(ileft, iright, depth_stop-1)\n",
    "        else:\n",
    "            # Compare integer values\n",
    "            diff = iright - ileft\n",
    "        if diff != 0:\n",
    "            return diff\n",
    "    # Fallback to length of lists - right should be longer\n",
    "    return len(right)-len(left)\n",
    "\n",
    "# Validation\n",
    "print((res:=packet_compare([1,1,3,1,1], [1,1,5,1,1])) > 0, res)\n",
    "print((res:=packet_compare([[1],[2,3,4]], [[1],4])) > 0, res)\n",
    "print((res:=packet_compare([9], [[8,7,6]])) < 0, res)\n",
    "print((res:=packet_compare([[4,4],4,4], [[4,4],4,4,4])) > 0, res)\n",
    "print((res:=packet_compare([7,7,7,7], [7,7,7])) < 0, res)\n",
    "print((res:=packet_compare([], [3])) > 0, res)\n",
    "print((res:=packet_compare([[[]]], [[]])) < 0, res)\n",
    "print((res:=packet_compare([1,[2,[3,[4,[5,6,7]]]],8,9], [1,[2,[3,[4,[5,6,0]]]],8,9])) < 0, res)"
   ]
  },
  {
   "cell_type": "code",
   "execution_count": 31,
   "metadata": {},
   "outputs": [],
   "source": [
    "correct = []\n",
    "for i, (left, right) in enumerate(packets):\n",
    "    valid = packet_compare(left, right)\n",
    "    #print(f\"{i}: {valid}\")\n",
    "    if valid>0: correct.append(i+1)"
   ]
  },
  {
   "cell_type": "code",
   "execution_count": 32,
   "metadata": {},
   "outputs": [
    {
     "name": "stdout",
     "output_type": "stream",
     "text": [
      "answer 1: 5506\n"
     ]
    }
   ],
   "source": [
    "answer1 = sum(correct)\n",
    "print(\"answer 1:\", answer1)"
   ]
  },
  {
   "cell_type": "markdown",
   "metadata": {},
   "source": [
    "----"
   ]
  },
  {
   "cell_type": "code",
   "execution_count": 33,
   "metadata": {},
   "outputs": [
    {
     "name": "stdout",
     "output_type": "stream",
     "text": [
      "Loaded session cookie from \"/home/kev/.adventofcode.session\".\n",
      "Fetching puzzle for day 13, 2022...\n",
      "Saving puzzle description to \"README.md\"...\n",
      "Done!\n"
     ]
    }
   ],
   "source": [
    "# Download part 2\n",
    "!aoc download --description-only --overwrite --puzzle-file README.md --year {aoc_year} --day {aoc_day}"
   ]
  },
  {
   "cell_type": "markdown",
   "metadata": {},
   "source": [
    "\\--- Part Two ---\n",
    "----------"
   ]
  },
  {
   "attachments": {},
   "cell_type": "markdown",
   "metadata": {},
   "source": [
    "Now, you just need to put *all* of the packets in the right order. Disregard the blank lines in your list of received packets.\n",
    "\n",
    "The distress signal protocol also requires that you include two additional *divider packets*:\n",
    "\n",
    "```\n",
    "[[2]]\n",
    "[[6]]\n",
    "\n",
    "```\n",
    "\n",
    "Using the same rules as before, organize all packets - the ones in your list of received packets as well as the two divider packets - into the correct order.\n",
    "\n",
    "For the example above, the result of putting the packets in the correct order is:\n",
    "\n",
    "```\n",
    "[]\n",
    "[[]]\n",
    "[[[]]]\n",
    "[1,1,3,1,1]\n",
    "[1,1,5,1,1]\n",
    "[[1],[2,3,4]]\n",
    "[1,[2,[3,[4,[5,6,0]]]],8,9]\n",
    "[1,[2,[3,[4,[5,6,7]]]],8,9]\n",
    "[[1],4]\n",
    "[[2]]\n",
    "[3]\n",
    "[[4,4],4,4]\n",
    "[[4,4],4,4,4]\n",
    "[[6]]\n",
    "[7,7,7]\n",
    "[7,7,7,7]\n",
    "[[8,7,6]]\n",
    "[9]\n",
    "\n",
    "```\n",
    "\n",
    "Afterward, locate the divider packets. To find the *decoder key* for this distress signal, you need to determine the indices of the two divider packets and multiply them together. (The first packet is at index 1, the second packet is at index 2, and so on.) In this example, the divider packets are *10th* and *14th*, and so the decoder key is `*140*`.\n",
    "\n",
    "Organize all of the packets into the correct order. *What is the decoder key for the distress signal?*\n"
   ]
  },
  {
   "cell_type": "code",
   "execution_count": 47,
   "metadata": {},
   "outputs": [
    {
     "name": "stdout",
     "output_type": "stream",
     "text": [
      "111 196\n"
     ]
    }
   ],
   "source": [
    "import functools\n",
    "\n",
    "packets = parse_packets(lines.copy())\n",
    "# Unpack packets\n",
    "distress_signal = [p[0] for p in packets] + [p[1] for p in packets]\n",
    "# Insert divider packets\n",
    "distress_signal.append([[2]])\n",
    "distress_signal.append([[6]])\n",
    "\n",
    "sorted_packets = sorted(distress_signal, key=functools.cmp_to_key(packet_compare), reverse=True)\n",
    "\n",
    "# Find indices (1-based)\n",
    "i2 = sorted_packets.index([[2]]) + 1\n",
    "i6 = sorted_packets.index([[6]]) + 1\n",
    "\n",
    "print(i2, i6)"
   ]
  },
  {
   "cell_type": "code",
   "execution_count": 48,
   "metadata": {},
   "outputs": [
    {
     "name": "stdout",
     "output_type": "stream",
     "text": [
      "answer 2: 21756\n"
     ]
    }
   ],
   "source": [
    "answer2 = i2 * i6\n",
    "print(\"answer 2:\", answer2)"
   ]
  },
  {
   "cell_type": "code",
   "execution_count": null,
   "metadata": {},
   "outputs": [],
   "source": []
  }
 ],
 "metadata": {
  "kernelspec": {
   "display_name": "Python 3.8.10 64-bit",
   "language": "python",
   "name": "python3"
  },
  "language_info": {
   "codemirror_mode": {
    "name": "ipython",
    "version": 3
   },
   "file_extension": ".py",
   "mimetype": "text/x-python",
   "name": "python",
   "nbconvert_exporter": "python",
   "pygments_lexer": "ipython3",
   "version": "3.8.10"
  },
  "orig_nbformat": 4,
  "vscode": {
   "interpreter": {
    "hash": "e7370f93d1d0cde622a1f8e1c04877d8463912d04d973331ad4851f04de6915a"
   }
  }
 },
 "nbformat": 4,
 "nbformat_minor": 2
}
