{
 "cells": [
  {
   "cell_type": "code",
   "execution_count": 1,
   "metadata": {},
   "outputs": [
    {
     "name": "stdout",
     "output_type": "stream",
     "text": [
      "\u001b[0maoc-cli 0.6.0\n",
      "\u001b[0mLoaded session cookie from \"/home/kev/.adventofcode.session\".\n",
      "Fetching puzzle for day 15, 2022...\n",
      "Saving puzzle description to \"README.md\"...\n",
      "Downloading input for day 15, 2022...\n",
      "Saving puzzle input to \"input.txt\"...\n",
      "Done!\n"
     ]
    }
   ],
   "source": [
    "import os\n",
    "import sys\n",
    "import statistics\n",
    "\n",
    "aoc_year, aoc_day = os.getcwd().split(os.sep)[-2:]\n",
    "\n",
    "# Download today puzzle & input\n",
    "!aoc --version\n",
    "!aoc download -i input.txt --overwrite -p README.md --year {aoc_year} --day {aoc_day}"
   ]
  },
  {
   "attachments": {},
   "cell_type": "markdown",
   "metadata": {},
   "source": [
    "\\--- Day 15: Beacon Exclusion Zone ---\n",
    "----------\n",
    "\n",
    "You feel the ground rumble again as the distress signal leads you to a large network of subterranean tunnels. You don't have time to search them all, but you don't need to: your pack contains a set of deployable *sensors* that you imagine were originally built to locate lost Elves.\n",
    "\n",
    "The sensors aren't very powerful, but that's okay; your handheld device indicates that you're close enough to the source of the distress signal to use them. You pull the emergency sensor system out of your pack, hit the big button on top, and the sensors zoom off down the tunnels.\n",
    "\n",
    "Once a sensor finds a spot it thinks will give it a good reading, it attaches itself to a hard surface and begins monitoring for the nearest signal source *beacon*. Sensors and beacons always exist at integer coordinates. Each sensor knows its own position and can *determine the position of a beacon precisely*; however, sensors can only lock on to the one beacon *closest to the sensor* as measured by the [Manhattan distance](https://en.wikipedia.org/wiki/Taxicab_geometry). (There is never a tie where two beacons are the same distance to a sensor.)\n",
    "\n",
    "It doesn't take long for the sensors to report back their positions and closest beacons (your puzzle input). For example:\n",
    "\n",
    "```\n",
    "Sensor at x=2, y=18: closest beacon is at x=-2, y=15\n",
    "Sensor at x=9, y=16: closest beacon is at x=10, y=16\n",
    "Sensor at x=13, y=2: closest beacon is at x=15, y=3\n",
    "Sensor at x=12, y=14: closest beacon is at x=10, y=16\n",
    "Sensor at x=10, y=20: closest beacon is at x=10, y=16\n",
    "Sensor at x=14, y=17: closest beacon is at x=10, y=16\n",
    "Sensor at x=8, y=7: closest beacon is at x=2, y=10\n",
    "Sensor at x=2, y=0: closest beacon is at x=2, y=10\n",
    "Sensor at x=0, y=11: closest beacon is at x=2, y=10\n",
    "Sensor at x=20, y=14: closest beacon is at x=25, y=17\n",
    "Sensor at x=17, y=20: closest beacon is at x=21, y=22\n",
    "Sensor at x=16, y=7: closest beacon is at x=15, y=3\n",
    "Sensor at x=14, y=3: closest beacon is at x=15, y=3\n",
    "Sensor at x=20, y=1: closest beacon is at x=15, y=3\n",
    "\n",
    "```\n",
    "\n",
    "So, consider the sensor at `2,18`; the closest beacon to it is at `-2,15`. For the sensor at `9,16`, the closest beacon to it is at `10,16`.\n",
    "\n",
    "Drawing sensors as `S` and beacons as `B`, the above arrangement of sensors and beacons looks like this:\n",
    "\n",
    "```\n",
    "               1    1    2    2\n",
    "     0    5    0    5    0    5\n",
    " 0 ....S.......................\n",
    " 1 ......................S.....\n",
    " 2 ...............S............\n",
    " 3 ................SB..........\n",
    " 4 ............................\n",
    " 5 ............................\n",
    " 6 ............................\n",
    " 7 ..........S.......S.........\n",
    " 8 ............................\n",
    " 9 ............................\n",
    "10 ....B.......................\n",
    "11 ..S.........................\n",
    "12 ............................\n",
    "13 ............................\n",
    "14 ..............S.......S.....\n",
    "15 B...........................\n",
    "16 ...........SB...............\n",
    "17 ................S..........B\n",
    "18 ....S.......................\n",
    "19 ............................\n",
    "20 ............S......S........\n",
    "21 ............................\n",
    "22 .......................B....\n",
    "\n",
    "```\n",
    "\n",
    "This isn't necessarily a comprehensive map of all beacons in the area, though. Because each sensor only identifies its closest beacon, if a sensor detects a beacon, you know there are no other beacons that close or closer to that sensor. There could still be beacons that just happen to not be the closest beacon to any sensor. Consider the sensor at `8,7`:\n",
    "\n",
    "```\n",
    "               1    1    2    2\n",
    "     0    5    0    5    0    5\n",
    "-2 ..........#.................\n",
    "-1 .........###................\n",
    " 0 ....S...#####...............\n",
    " 1 .......#######........S.....\n",
    " 2 ......#########S............\n",
    " 3 .....###########SB..........\n",
    " 4 ....#############...........\n",
    " 5 ...###############..........\n",
    " 6 ..#################.........\n",
    " 7 .#########S#######S#........\n",
    " 8 ..#################.........\n",
    " 9 ...###############..........\n",
    "10 ....B############...........\n",
    "11 ..S..###########............\n",
    "12 ......#########.............\n",
    "13 .......#######..............\n",
    "14 ........#####.S.......S.....\n",
    "15 B........###................\n",
    "16 ..........#SB...............\n",
    "17 ................S..........B\n",
    "18 ....S.......................\n",
    "19 ............................\n",
    "20 ............S......S........\n",
    "21 ............................\n",
    "22 .......................B....\n",
    "\n",
    "```\n",
    "\n",
    "This sensor's closest beacon is at `2,10`, and so you know there are no beacons that close or closer (in any positions marked `#`).\n",
    "\n",
    "None of the detected beacons seem to be producing the distress signal, so you'll need to work out where the distress beacon is by working out where it *isn't*. For now, keep things simple by counting the positions where a beacon cannot possibly be along just a single row.\n",
    "\n",
    "So, suppose you have an arrangement of beacons and sensors like in the example above and, just in the row where `y=10`, you'd like to count the number of positions a beacon cannot possibly exist. The coverage from all sensors near that row looks like this:\n",
    "\n",
    "```\n",
    "                 1    1    2    2\n",
    "       0    5    0    5    0    5\n",
    " 9 ...#########################...\n",
    "10 ..####B######################..\n",
    "11 .###S#############.###########.\n",
    "\n",
    "```\n",
    "\n",
    "In this example, in the row where `y=10`, there are `*26*` positions where a beacon cannot be present.\n",
    "\n",
    "Consult the report from the sensors you just deployed. *In the row where `y=2000000`, how many positions cannot contain a beacon?*\n"
   ]
  },
  {
   "cell_type": "code",
   "execution_count": 2,
   "metadata": {},
   "outputs": [
    {
     "name": "stdout",
     "output_type": "stream",
     "text": [
      "['Sensor at x=325337, y=2568863: closest beacon is at x=-518661, y=2000000',\n",
      " 'Sensor at x=3988825, y=837820: closest beacon is at x=4305648, y=2127118',\n",
      " 'Sensor at x=1611311, y=2053174: closest beacon is at x=2827226, y=1579510',\n",
      " 'Sensor at x=101890, y=3940049: closest beacon is at x=955472, y=3457514',\n",
      " 'Sensor at x=3962702, y=2558425: closest beacon is at x=4226981, y=2604726',\n",
      " 'Sensor at x=2957890, y=2160813: closest beacon is at x=2827226, y=1579510']\n"
     ]
    }
   ],
   "source": [
    "from pprint import pprint\n",
    "\n",
    "with open('input.txt', 'rt') as f:\n",
    "    lines = [x.strip() for x in f.readlines()]\n",
    "\n",
    "# Verify parse\n",
    "pprint(lines[:6])"
   ]
  },
  {
   "cell_type": "code",
   "execution_count": 3,
   "metadata": {},
   "outputs": [
    {
     "name": "stdout",
     "output_type": "stream",
     "text": [
      "[[325337, 2568863, -518661, 2000000],\n",
      " [3988825, 837820, 4305648, 2127118],\n",
      " [1611311, 2053174, 2827226, 1579510],\n",
      " [101890, 3940049, 955472, 3457514],\n",
      " [3962702, 2558425, 4226981, 2604726],\n",
      " [2957890, 2160813, 2827226, 1579510]]\n"
     ]
    }
   ],
   "source": [
    "import re\n",
    "pattern = r\"x=([-\\d]+), y=([-\\d]+):.*x=([-\\d]+), y=([-\\d]+)\"\n",
    "\n",
    "reports = [re.findall(pattern, line)[0] for line in lines]\n",
    "reports = [[int(_) for _ in report] for report in reports]\n",
    "pprint(reports[:6])"
   ]
  },
  {
   "cell_type": "code",
   "execution_count": 4,
   "metadata": {},
   "outputs": [],
   "source": [
    "# For each position, iterate over sensors. Is this position within {sensor:beacon} distance of sensor?\n",
    "\n",
    "def manhatten_distance(x1,y1,x2,y2):\n",
    "    return abs(x2 - x1) + abs(y2 - y1)\n",
    "\n",
    "assert manhatten_distance(8,7,2,10) == 9\n",
    "\n",
    "def is_within_range(x, y, reports):\n",
    "    for report in reports:\n",
    "        sb_dist = manhatten_distance(*report)\n",
    "        s_dist = manhatten_distance(x,y,report[0], report[1])\n",
    "        b_dist = manhatten_distance(x,y,report[2], report[3])\n",
    "        if s_dist == 0 or b_dist == 0: return False\n",
    "        if s_dist <= sb_dist: return True\n",
    "    return False"
   ]
  },
  {
   "cell_type": "code",
   "execution_count": 5,
   "metadata": {},
   "outputs": [
    {
     "name": "stdout",
     "output_type": "stream",
     "text": [
      "x  = -518661 :: 4305648\n"
     ]
    },
    {
     "data": {
      "text/plain": [
       "4924308"
      ]
     },
     "execution_count": 5,
     "metadata": {},
     "output_type": "execute_result"
    }
   ],
   "source": [
    "min_x = min([min(r[0],r[2]) for r in reports])\n",
    "max_x = max([max(r[0],r[2]) for r in reports])\n",
    "print(f\"x  = {min_x} :: {max_x}\")\n",
    "\n",
    "count = 0\n",
    "y=2_000_000\n",
    "for x in range(min_x-100_000, max_x + 100_000):\n",
    "    if is_within_range(x,y,reports):\n",
    "        #print(x)\n",
    "        count += 1\n",
    "\n",
    "count"
   ]
  },
  {
   "cell_type": "code",
   "execution_count": 6,
   "metadata": {},
   "outputs": [
    {
     "name": "stdout",
     "output_type": "stream",
     "text": [
      "answer 1: 123\n"
     ]
    }
   ],
   "source": [
    "\n",
    "answer1 = 123\n",
    "print(\"answer 1:\", answer1)"
   ]
  },
  {
   "cell_type": "markdown",
   "metadata": {},
   "source": [
    "----"
   ]
  },
  {
   "cell_type": "code",
   "execution_count": 7,
   "metadata": {},
   "outputs": [
    {
     "name": "stdout",
     "output_type": "stream",
     "text": [
      "Loaded session cookie from \"/home/kev/.adventofcode.session\".\n",
      "Fetching puzzle for day 15, 2022...\n",
      "Saving puzzle description to \"README.md\"...\n",
      "Done!\n"
     ]
    }
   ],
   "source": [
    "# Download part 2\n",
    "!aoc download --description-only --overwrite --puzzle-file README.md --year {aoc_year} --day {aoc_day}"
   ]
  },
  {
   "cell_type": "markdown",
   "metadata": {},
   "source": [
    "\\--- Part Two ---\n",
    "----------"
   ]
  },
  {
   "attachments": {},
   "cell_type": "markdown",
   "metadata": {},
   "source": [
    "\n",
    "Your handheld device indicates that the distress signal is coming from a beacon nearby. The distress beacon is not detected by any sensor, but the distress beacon must have `x` and `y` coordinates each no lower than `0` and no larger than `4000000`.\n",
    "\n",
    "To isolate the distress beacon's signal, you need to determine its *tuning frequency*, which can be found by multiplying its `x` coordinate by `4000000` and then adding its `y` coordinate.\n",
    "\n",
    "In the example above, the search space is smaller: instead, the `x` and `y` coordinates can each be at most `20`. With this reduced search area, there is only a single position that could have a beacon: `x=14, y=11`. The tuning frequency for this distress beacon is `*56000011*`.\n",
    "\n",
    "Find the only possible position for the distress beacon. *What is its tuning frequency?*\n"
   ]
  },
  {
   "cell_type": "code",
   "execution_count": 8,
   "metadata": {},
   "outputs": [
    {
     "name": "stdout",
     "output_type": "stream",
     "text": [
      "0/23: searching at dist=1412862 from sensor [325337, 2568863]\n",
      "1/23: searching at dist=1606122 from sensor [3988825, 837820]\n",
      "2/23: searching at dist=1689580 from sensor [1611311, 2053174]\n",
      "3/23: searching at dist=1336118 from sensor [101890, 3940049]\n",
      "4/23: searching at dist=310581 from sensor [3962702, 2558425]\n",
      "5/23: searching at dist=711968 from sensor [2957890, 2160813]\n",
      "(3257428,2573243) frequency: 13029714573243\n",
      "6/23: searching at dist=310473 from sensor [3907456, 3325610]\n",
      "7/23: searching at dist=551591 from sensor [3354177, 3435919]\n",
      "8/23: searching at dist=455664 from sensor [3997379, 3071868]\n",
      "9/23: searching at dist=948843 from sensor [145143, 1714962]\n",
      "10/23: searching at dist=652560 from sensor [611563, 3148864]\n",
      "11/23: searching at dist=1294221 from sensor [3080405, 3904777]\n",
      "12/23: searching at dist=585058 from sensor [644383, 10732]\n",
      "13/23: searching at dist=516998 from sensor [3229566, 1694167]\n",
      "14/23: searching at dist=1172536 from sensor [1600637, 3984884]\n",
      "15/23: searching at dist=545280 from sensor [2959765, 2820860]\n",
      "(3257428,2573243) frequency: 13029714573243\n",
      "16/23: searching at dist=786094 from sensor [2235330, 3427797]\n",
      "17/23: searching at dist=1766860 from sensor [2428996, 210881]\n",
      "18/23: searching at dist=987409 from sensor [369661, 687805]\n",
      "19/23: searching at dist=750677 from sensor [3558476, 2123614]\n",
      "(3257428,2573243) frequency: 13029714573243\n",
      "20/23: searching at dist=545962 from sensor [3551529, 2825104]\n",
      "(3257428,2573243) frequency: 13029714573243\n",
      "21/23: searching at dist=597895 from sensor [64895, 3577]\n",
      "22/23: searching at dist=293157 from sensor [3079531, 1538659]\n"
     ]
    }
   ],
   "source": [
    "sensors = [[r[0],r[1]] for r in reports]\n",
    "beacons = [[r[2],r[3]] for r in reports]\n",
    "\n",
    "for i, report in enumerate(reports):\n",
    "    dist = manhatten_distance(*report)+1\n",
    "    print(f\"{i}/{len(reports)}: searching at dist={dist} from sensor {report[:2]}\")\n",
    "    \n",
    "    # Generate perimeter coordinates\n",
    "    x1=[_ for _ in range(-dist,dist)]\n",
    "    x2=[_ for _ in range(dist,-dist,-1)]\n",
    "    y1=[dist-abs(x) for x in x1]\n",
    "    y2=[-abs(dist-abs(x)) for x in x2]\n",
    "\n",
    "    perim = zip(x1+x2, y1+y2)\n",
    "\n",
    "    for x,y in perim:\n",
    "        x = report[0] + x\n",
    "        y = report[1] + y\n",
    "\n",
    "        # Check only within search space\n",
    "        if x < 0 or y < 0 or x > 4_000_000 or y > 4_000_000:\n",
    "            continue\n",
    "\n",
    "        # Check that point doesn't have a beacon already\n",
    "        if [x,y] in beacons:\n",
    "            continue\n",
    "        \n",
    "        # Check point against other boundaries\n",
    "        if not is_within_range(x, y, reports):\n",
    "            print(f\"({x},{y}) frequency: {x*4_000_000+y}\")"
   ]
  },
  {
   "cell_type": "code",
   "execution_count": null,
   "metadata": {},
   "outputs": [],
   "source": []
  }
 ],
 "metadata": {
  "kernelspec": {
   "display_name": "base",
   "language": "python",
   "name": "python3"
  },
  "language_info": {
   "codemirror_mode": {
    "name": "ipython",
    "version": 3
   },
   "file_extension": ".py",
   "mimetype": "text/x-python",
   "name": "python",
   "nbconvert_exporter": "python",
   "pygments_lexer": "ipython3",
   "version": "3.9.12"
  },
  "orig_nbformat": 4,
  "vscode": {
   "interpreter": {
    "hash": "40bbd034384ac82cf727a86e6463bde7e4bf50a83b0c0b1a0b75bcb28f5c0159"
   }
  }
 },
 "nbformat": 4,
 "nbformat_minor": 2
}
