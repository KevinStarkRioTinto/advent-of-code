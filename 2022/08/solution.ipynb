{
 "cells": [
  {
   "cell_type": "code",
   "execution_count": 78,
   "metadata": {},
   "outputs": [
    {
     "name": "stdout",
     "output_type": "stream",
     "text": [
      "\u001b[0maoc-cli 0.6.0\n",
      "\u001b[0mLoaded session cookie from \"/home/kev/.adventofcode.session\".\n",
      "Fetching puzzle for day 8, 2022...\n",
      "Saving puzzle description to \"README.md\"...\n",
      "Downloading input for day 8, 2022...\n",
      "Saving puzzle input to \"input.txt\"...\n",
      "Done!\n"
     ]
    }
   ],
   "source": [
    "import os\n",
    "import sys\n",
    "import statistics\n",
    "\n",
    "aoc_year, aoc_day = os.getcwd().split(os.sep)[-2:]\n",
    "\n",
    "# Download today puzzle & input\n",
    "!aoc --version\n",
    "!aoc download -i input.txt --overwrite -p README.md --year {aoc_year} --day {aoc_day}"
   ]
  },
  {
   "cell_type": "markdown",
   "metadata": {},
   "source": [
    "\\--- Day 8: Treetop Tree House ---\n",
    "----------\n",
    "\n",
    "The expedition comes across a peculiar patch of tall trees all planted carefully in a grid. The Elves explain that a previous expedition planted these trees as a reforestation effort. Now, they're curious if this would be a good location for a [tree house](https://en.wikipedia.org/wiki/Tree_house).\n",
    "\n",
    "First, determine whether there is enough tree cover here to keep a tree house *hidden*. To do this, you need to count the number of trees that are *visible from outside the grid* when looking directly along a row or column.\n",
    "\n",
    "The Elves have already launched a [quadcopter](https://en.wikipedia.org/wiki/Quadcopter) to generate a map with the height of each tree (your puzzle input). For example:\n",
    "\n",
    "```\n",
    "30373\n",
    "25512\n",
    "65332\n",
    "33549\n",
    "35390\n",
    "\n",
    "```\n",
    "\n",
    "Each tree is represented as a single digit whose value is its height, where `0` is the shortest and `9` is the tallest.\n",
    "\n",
    "A tree is *visible* if all of the other trees between it and an edge of the grid are *shorter* than it. Only consider trees in the same row or column; that is, only look up, down, left, or right from any given tree.\n",
    "\n",
    "All of the trees around the edge of the grid are *visible* - since they are already on the edge, there are no trees to block the view. In this example, that only leaves the *interior nine trees* to consider:\n",
    "\n",
    "* The top-left `5` is *visible* from the left and top. (It isn't visible from the right or bottom since other trees of height `5` are in the way.)\n",
    "* The top-middle `5` is *visible* from the top and right.\n",
    "* The top-right `1` is not visible from any direction; for it to be visible, there would need to only be trees of height *0* between it and an edge.\n",
    "* The left-middle `5` is *visible*, but only from the right.\n",
    "* The center `3` is not visible from any direction; for it to be visible, there would need to be only trees of at most height `2` between it and an edge.\n",
    "* The right-middle `3` is *visible* from the right.\n",
    "* In the bottom row, the middle `5` is *visible*, but the `3` and `4` are not.\n",
    "\n",
    "With 16 trees visible on the edge and another 5 visible in the interior, a total of `*21*` trees are visible in this arrangement.\n",
    "\n",
    "Consider your map; *how many trees are visible from outside the grid?*\n"
   ]
  },
  {
   "cell_type": "code",
   "execution_count": 79,
   "metadata": {},
   "outputs": [
    {
     "name": "stdout",
     "output_type": "stream",
     "text": [
      "['100021112110202312022010330204312040000111012143445142221414240220240442332040010320133120230011020',\n",
      " '111110201332323210211143123214321343332124211413115514155115511033421001222101204330001300333011010',\n",
      " '222100123300231230122203432310224441551434231352112532354252244334410042212441233243220102033110020',\n",
      " '212210311310102334321243104133012535144151532555155341325352512544453402400411340202133231000102020',\n",
      " '112002102322001003304233302040124544411225523533534235113353522233535550432232202401221022110311110',\n",
      " '112102131331201432320312233124434232544144233241123334112232531521542551332434224211234133132330300']\n"
     ]
    }
   ],
   "source": [
    "from pprint import pprint\n",
    "\n",
    "with open('input.txt', 'rt') as f:\n",
    "    lines = [x.strip() for x in f.readlines()]\n",
    "\n",
    "# Verify parse\n",
    "pprint(lines[:6])"
   ]
  },
  {
   "cell_type": "code",
   "execution_count": 80,
   "metadata": {},
   "outputs": [],
   "source": [
    "plantation = [[int(i) for i in list(row)] for row in lines]\n",
    "#plantation"
   ]
  },
  {
   "cell_type": "code",
   "execution_count": 81,
   "metadata": {},
   "outputs": [],
   "source": [
    "def is_visible(plantation, row, col):\n",
    "    height = plantation[row][col]\n",
    "\n",
    "    # Line-Of-Sight from left \n",
    "    los = plantation[row][:col]\n",
    "    if height > max(los): return True\n",
    "\n",
    "    # From right\n",
    "    los = plantation[row][col+1:]\n",
    "    if height > max(los): return True\n",
    "\n",
    "    # From top\n",
    "    los = [row[col] for row in plantation[:row]]\n",
    "    if height > max(los): return True\n",
    "    \n",
    "    # From bot\n",
    "    los = [row[col] for row in plantation[row+1:]]\n",
    "    if height > max(los): return True\n",
    "\n",
    "    #print(f\"[{row+1}/{len(plantation)},{col+1}/{len(plantation[row])}] {height} --> {los}\")\n",
    "    return False\n",
    "\n",
    "interior = 0\n",
    "for row, trees in enumerate(plantation):\n",
    "    if row == 0 or row == len(plantation) - 1: continue\n",
    "    for col, tree in enumerate(trees):\n",
    "        if col == 0 or col == len(trees) - 1: continue\n",
    "        if is_visible(plantation, row, col):\n",
    "            interior += 1\n",
    "\n",
    "border = len(plantation) * 2 + (len(plantation[0]) - 2) * 2\n",
    "answer1 = interior + border"
   ]
  },
  {
   "cell_type": "code",
   "execution_count": 82,
   "metadata": {},
   "outputs": [
    {
     "name": "stdout",
     "output_type": "stream",
     "text": [
      "answer 1: 1796\n"
     ]
    }
   ],
   "source": [
    "print(\"answer 1:\", answer1)"
   ]
  },
  {
   "cell_type": "markdown",
   "metadata": {},
   "source": [
    "----"
   ]
  },
  {
   "cell_type": "code",
   "execution_count": 83,
   "metadata": {},
   "outputs": [
    {
     "name": "stdout",
     "output_type": "stream",
     "text": [
      "Loaded session cookie from \"/home/kev/.adventofcode.session\".\n",
      "Fetching puzzle for day 8, 2022...\n",
      "Saving puzzle description to \"README.md\"...\n",
      "Done!\n"
     ]
    }
   ],
   "source": [
    "# Download part 2\n",
    "!aoc download --description-only --overwrite --puzzle-file README.md --year {aoc_year} --day {aoc_day}"
   ]
  },
  {
   "cell_type": "markdown",
   "metadata": {},
   "source": [
    "\\--- Part Two ---\n",
    "----------\n",
    "\n",
    "Content with the amount of tree cover available, the Elves just need to know the best spot to build their tree house: they would like to be able to see a lot of *trees*.\n",
    "\n",
    "To measure the viewing distance from a given tree, look up, down, left, and right from that tree; stop if you reach an edge or at the first tree that is the same height or taller than the tree under consideration. (If a tree is right on the edge, at least one of its viewing distances will be zero.)\n",
    "\n",
    "The Elves don't care about distant trees taller than those found by the rules above; the proposed tree house has large [eaves](https://en.wikipedia.org/wiki/Eaves) to keep it dry, so they wouldn't be able to see higher than the tree house anyway.\n",
    "\n",
    "In the example above, consider the middle `5` in the second row:\n",
    "\n",
    "```\n",
    "30373\n",
    "25512\n",
    "65332\n",
    "33549\n",
    "35390\n",
    "\n",
    "```\n",
    "\n",
    "* Looking up, its view is not blocked; it can see `*1*` tree (of height `3`).\n",
    "* Looking left, its view is blocked immediately; it can see only `*1*` tree (of height `5`, right next to it).\n",
    "* Looking right, its view is not blocked; it can see `*2*` trees.\n",
    "* Looking down, its view is blocked eventually; it can see `*2*` trees (one of height `3`, then the tree of height `5` that blocks its view).\n",
    "\n",
    "A tree's *scenic score* is found by *multiplying together* its viewing distance in each of the four directions. For this tree, this is `*4*` (found by multiplying `1 * 1 * 2 * 2`).\n",
    "\n",
    "However, you can do even better: consider the tree of height `5` in the middle of the fourth row:\n",
    "\n",
    "```\n",
    "30373\n",
    "25512\n",
    "65332\n",
    "33549\n",
    "35390\n",
    "\n",
    "```\n",
    "\n",
    "* Looking up, its view is blocked at `*2*` trees (by another tree with a height of `5`).\n",
    "* Looking left, its view is not blocked; it can see `*2*` trees.\n",
    "* Looking down, its view is also not blocked; it can see `*1*` tree.\n",
    "* Looking right, its view is blocked at `*2*` trees (by a massive tree of height `9`).\n",
    "\n",
    "This tree's scenic score is `*8*` (`2 * 2 * 1 * 2`); this is the ideal spot for the tree house.\n",
    "\n",
    "Consider each tree on your map. *What is the highest scenic score possible for any tree?*\n"
   ]
  },
  {
   "cell_type": "code",
   "execution_count": 84,
   "metadata": {},
   "outputs": [
    {
     "name": "stdout",
     "output_type": "stream",
     "text": [
      "[1,1] [1, 1, 1, 1] = 1\n",
      "[1,4] [1, 1, 2, 2] = 4\n",
      "[1,6] [1, 6, 2, 3] = 36\n",
      "[1,14] [1, 2, 5, 8] = 80\n",
      "[1,22] [1, 22, 2, 7] = 308\n",
      "[1,80] [1, 14, 4, 18] = 1008\n",
      "[2,24] [2, 24, 5, 8] = 1920\n",
      "[3,67] [3, 4, 10, 31] = 3720\n",
      "[4,20] [4, 20, 7, 8] = 4480\n",
      "[5,15] [5, 15, 8, 14] = 8400\n",
      "[5,36] [3, 36, 8, 24] = 20736\n",
      "[9,60] [9, 11, 7, 38] = 26334\n",
      "[14,52] [14, 52, 2, 46] = 66976\n",
      "[29,46] [29, 46, 16, 4] = 85376\n",
      "[48,23] [48, 23, 9, 9] = 89424\n",
      "[63,34] [7, 34, 35, 14] = 116620\n",
      "[75,62] [8, 22, 23, 36] = 145728\n",
      "[86,49] [10, 49, 12, 49] = 288120\n"
     ]
    }
   ],
   "source": [
    "def scenic_score(plantation, row, col):\n",
    "    \"\"\"Brute force approach to search\"\"\"\n",
    "    height = plantation[row][col]\n",
    "\n",
    "    left = 0\n",
    "    for i in range(col-1, -1, -1):\n",
    "        left += 1\n",
    "        if plantation[row][i] >= height: break\n",
    "\n",
    "    right = 0\n",
    "    for i in range(col+1, len(plantation[row])):\n",
    "        right += 1\n",
    "        if plantation[row][i] >= height: break\n",
    "\n",
    "    up = 0\n",
    "    for i in range(row-1, -1, -1):\n",
    "        up += 1\n",
    "        if plantation[i][col] >= height: break\n",
    "\n",
    "    down = 0\n",
    "    for i in range(row+1, len(plantation)):\n",
    "        down += 1\n",
    "        if plantation[i][col] >= height: break\n",
    "\n",
    "    return left * right * up * down, [up, left, down, right]\n",
    "\n",
    "max_score = 0\n",
    "for row, trees in enumerate(plantation):\n",
    "    # Tree on edge will have total score 0\n",
    "    if row == 0 or row == len(plantation) - 1: continue\n",
    "    for col, tree in enumerate(trees):\n",
    "        # Tree on edge will have total score 0\n",
    "        if col == 0 or col == len(trees) - 1: continue\n",
    "        score, dims = scenic_score(plantation, row, col)\n",
    "        if score > max_score:\n",
    "            max_score = score\n",
    "            print(f\"[{row},{col}] {dims} = {score}\")\n",
    "\n",
    "answer2 = max_score"
   ]
  },
  {
   "cell_type": "code",
   "execution_count": 85,
   "metadata": {},
   "outputs": [
    {
     "name": "stdout",
     "output_type": "stream",
     "text": [
      "answer 2: 288120\n"
     ]
    }
   ],
   "source": [
    "print(\"answer 2:\", answer2)"
   ]
  }
 ],
 "metadata": {
  "kernelspec": {
   "display_name": "Python 3.8.10 64-bit",
   "language": "python",
   "name": "python3"
  },
  "language_info": {
   "codemirror_mode": {
    "name": "ipython",
    "version": 3
   },
   "file_extension": ".py",
   "mimetype": "text/x-python",
   "name": "python",
   "nbconvert_exporter": "python",
   "pygments_lexer": "ipython3",
   "version": "3.8.10"
  },
  "orig_nbformat": 4,
  "vscode": {
   "interpreter": {
    "hash": "e7370f93d1d0cde622a1f8e1c04877d8463912d04d973331ad4851f04de6915a"
   }
  }
 },
 "nbformat": 4,
 "nbformat_minor": 2
}
