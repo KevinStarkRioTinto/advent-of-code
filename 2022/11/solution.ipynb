{
 "cells": [
  {
   "cell_type": "code",
   "execution_count": 1,
   "metadata": {},
   "outputs": [
    {
     "name": "stdout",
     "output_type": "stream",
     "text": [
      "\u001b[0maoc-cli 0.6.0\n",
      "\u001b[0mLoaded session cookie from \"/home/kev/.adventofcode.session\".\n",
      "Fetching puzzle for day 11, 2022...\n",
      "Saving puzzle description to \"README.md\"...\n",
      "Downloading input for day 11, 2022...\n",
      "Saving puzzle input to \"input.txt\"...\n",
      "Done!\n"
     ]
    }
   ],
   "source": [
    "import os\n",
    "import sys\n",
    "import statistics\n",
    "\n",
    "aoc_year, aoc_day = os.getcwd().split(os.sep)[-2:]\n",
    "\n",
    "# Download today puzzle & input\n",
    "!aoc --version\n",
    "!aoc download -i input.txt --overwrite -p README.md --year {aoc_year} --day {aoc_day}"
   ]
  },
  {
   "attachments": {},
   "cell_type": "markdown",
   "metadata": {},
   "source": [
    "\\--- Day 11: Monkey in the Middle ---\n",
    "----------"
   ]
  },
  {
   "attachments": {},
   "cell_type": "markdown",
   "metadata": {},
   "source": [
    "As you finally start making your way upriver, you realize your pack is much lighter than you remember. Just then, one of the items from your pack goes flying overhead. Monkeys are playing [Keep Away](https://en.wikipedia.org/wiki/Keep_away) with your missing things!\n",
    "\n",
    "To get your stuff back, you need to be able to predict where the monkeys will throw your items. After some careful observation, you realize the monkeys operate based on *how worried you are about each item*.\n",
    "\n",
    "...\n",
    "\n",
    "In this example, the two most active monkeys inspected items 101 and 105 times. The level of *monkey business* in this situation can be found by multiplying these together: `*10605*`.\n",
    "\n",
    "Figure out which monkeys to chase by counting how many items they inspect over 20 rounds. *What is the level of monkey business after 20 rounds of stuff-slinging simian shenanigans?*"
   ]
  },
  {
   "cell_type": "code",
   "execution_count": 2,
   "metadata": {},
   "outputs": [],
   "source": [
    "from pprint import pprint\n",
    "\n",
    "with open('input.txt', 'rt') as f:\n",
    "    lines = [x.strip() for x in f.readlines()]\n",
    "\n",
    "def monkey_parse(lines):\n",
    "    monkeys = []\n",
    "    while len(lines) > 0:\n",
    "        monkey = {\n",
    "            \"name\": lines.pop(0),\n",
    "            \"items\": [int(_) for _ in lines.pop(0).replace(\"Starting items: \", \"\").split(\", \")],\n",
    "            \"op\": lines.pop(0).replace(\"Operation: \", \"\"),\n",
    "            \"test\": int(lines.pop(0).split()[-1]),\n",
    "            \"true\": int(lines.pop(0).split()[-1]),\n",
    "            \"false\": int(lines.pop(0).split()[-1]),\n",
    "        }\n",
    "        monkeys.append(monkey)\n",
    "        if len(lines) > 0: lines.pop(0)\n",
    "\n",
    "    # Verify parse\n",
    "    return monkeys\n"
   ]
  },
  {
   "cell_type": "code",
   "execution_count": 3,
   "metadata": {},
   "outputs": [],
   "source": [
    "import math\n",
    "\n",
    "def monkey_inspect(monkey, item, verbose=False):\n",
    "    args = {\"old\": item}\n",
    "    exec(monkey['op'], globals(), args)\n",
    "    worry = math.floor(args['new'] / 3)\n",
    "    if verbose: print(f\"{monkey['name']} {monkey['op']} {item}->{args['new']}->{worry} %% {monkey['test']}\")\n",
    "    if worry % monkey['test'] == 0:\n",
    "        return monkey['true'], worry\n",
    "    else:\n",
    "        return monkey['false'], worry\n",
    "\n",
    "#monkey_inspect(monkeys[0], 62, True)"
   ]
  },
  {
   "cell_type": "code",
   "execution_count": 4,
   "metadata": {},
   "outputs": [
    {
     "data": {
      "text/plain": [
       "[291, 296, 17, 297, 306, 7, 6, 115]"
      ]
     },
     "execution_count": 4,
     "metadata": {},
     "output_type": "execute_result"
    }
   ],
   "source": [
    "monkeys = monkey_parse(lines.copy())\n",
    "\n",
    "count = [0 for _ in range(len(monkeys))]\n",
    "for round in range(20):\n",
    "    for i, monkey in enumerate(monkeys):\n",
    "        while len(monkeys[i]['items']) > 0:\n",
    "            item = monkeys[i]['items'].pop(0)\n",
    "            dest, worry = monkey_inspect(monkeys[i], item)\n",
    "            count[i] += 1\n",
    "            #print(f\"{round+1}| {monkey['name']} {item} -> {dest} ({worry})\")\n",
    "            monkeys[dest]['items'].append(worry)\n",
    "\n",
    "count"
   ]
  },
  {
   "cell_type": "code",
   "execution_count": 5,
   "metadata": {},
   "outputs": [
    {
     "name": "stdout",
     "output_type": "stream",
     "text": [
      "answer1: 90882\n"
     ]
    }
   ],
   "source": [
    "answer1 = sorted(count)[-1] * sorted(count)[-2]\n",
    "print(\"answer1:\", answer1)"
   ]
  },
  {
   "cell_type": "markdown",
   "metadata": {},
   "source": [
    "----"
   ]
  },
  {
   "cell_type": "code",
   "execution_count": 6,
   "metadata": {},
   "outputs": [
    {
     "name": "stdout",
     "output_type": "stream",
     "text": [
      "Loaded session cookie from \"/home/kev/.adventofcode.session\".\n",
      "Fetching puzzle for day 11, 2022...\n",
      "Saving puzzle description to \"README.md\"...\n",
      "Done!\n"
     ]
    }
   ],
   "source": [
    "# Download part 2\n",
    "!aoc download --description-only --overwrite --puzzle-file README.md --year {aoc_year} --day {aoc_day}"
   ]
  },
  {
   "cell_type": "markdown",
   "metadata": {},
   "source": [
    "\\--- Part Two ---\n",
    "----------"
   ]
  },
  {
   "attachments": {},
   "cell_type": "markdown",
   "metadata": {},
   "source": [
    "You're worried you might not ever get your items back. So worried, in fact, that your relief that a monkey's inspection didn't damage an item *no longer causes your worry level to be divided by three*.\n",
    "\n",
    "Unfortunately, that relief was all that was keeping your worry levels from reaching *ridiculous levels*. You'll need to *find another way to keep your worry levels manageable*.\n",
    "\n",
    "...\n",
    "\n",
    "Worry levels are no longer divided by three after each item is inspected; you'll need to find another way to keep your worry levels manageable. Starting again from the initial state in your puzzle input, *what is the level of monkey business after 10000 rounds?*\n"
   ]
  },
  {
   "cell_type": "code",
   "execution_count": 7,
   "metadata": {},
   "outputs": [],
   "source": [
    "def monkey_inspect_prime(monkey, item, modulo, verbose=False):\n",
    "    args = {\"old\": item}\n",
    "    exec(monkey['op'], globals(), args)\n",
    "    worry = args['new'] #math.floor(args['new'] / 3)\n",
    "    if verbose: print(f\"{monkey['name']} {monkey['op']} {item}->{args['new']}->{worry} %% {monkey['test']}\")\n",
    "    if worry % monkey['test'] == 0:\n",
    "        return monkey['true'], worry % modulo\n",
    "    else:\n",
    "        return monkey['false'], worry % modulo\n"
   ]
  },
  {
   "cell_type": "code",
   "execution_count": 8,
   "metadata": {},
   "outputs": [
    {
     "data": {
      "text/plain": [
       "[170248, 174243, 3549, 161508, 177299, 16284, 28995, 28223]"
      ]
     },
     "execution_count": 8,
     "metadata": {},
     "output_type": "execute_result"
    }
   ],
   "source": [
    "# What number is divisible by many? The product! :headthump:\n",
    "monkeys = monkey_parse(lines.copy())\n",
    "modulo = math.prod([m['test'] for m in monkeys])\n",
    "count = [0 for _ in range(len(monkeys))]\n",
    "\n",
    "for round in range(10_000):\n",
    "    for i, monkey in enumerate(monkeys):\n",
    "        while len(monkeys[i]['items']) > 0:\n",
    "            item = monkeys[i]['items'].pop(0)\n",
    "            dest, worry = monkey_inspect_prime(monkeys[i], item, modulo)\n",
    "            count[i] += 1\n",
    "            #print(f\"{round+1}| {monkey['name']} {item} -> {dest} ({worry})\")\n",
    "            monkeys[dest]['items'].append(worry)\n",
    "\n",
    "count"
   ]
  },
  {
   "cell_type": "code",
   "execution_count": 9,
   "metadata": {},
   "outputs": [
    {
     "name": "stdout",
     "output_type": "stream",
     "text": [
      "answer 2: 30893109657\n"
     ]
    }
   ],
   "source": [
    "answer2 = sorted(count)[-1] * sorted(count)[-2]\n",
    "print(\"answer 2:\", answer2)"
   ]
  }
 ],
 "metadata": {
  "kernelspec": {
   "display_name": "Python 3",
   "language": "python",
   "name": "python3"
  },
  "language_info": {
   "codemirror_mode": {
    "name": "ipython",
    "version": 3
   },
   "file_extension": ".py",
   "mimetype": "text/x-python",
   "name": "python",
   "nbconvert_exporter": "python",
   "pygments_lexer": "ipython3",
   "version": "3.8.10"
  },
  "orig_nbformat": 4,
  "vscode": {
   "interpreter": {
    "hash": "e7370f93d1d0cde622a1f8e1c04877d8463912d04d973331ad4851f04de6915a"
   }
  }
 },
 "nbformat": 4,
 "nbformat_minor": 2
}
