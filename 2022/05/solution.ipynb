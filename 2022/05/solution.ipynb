{
 "cells": [
  {
   "cell_type": "code",
   "execution_count": 1,
   "metadata": {},
   "outputs": [
    {
     "name": "stdout",
     "output_type": "stream",
     "text": [
      "\u001b[0maoc-cli 0.6.0\n",
      "\u001b[0mLoaded session cookie from \"/home/kev/.adventofcode.session\".\n",
      "Fetching puzzle for day 5, 2022...\n",
      "Saving puzzle description to \"README.md\"...\n",
      "Downloading input for day 5, 2022...\n",
      "Saving puzzle input to \"input.txt\"...\n",
      "Done!\n"
     ]
    }
   ],
   "source": [
    "# Download today puzzle & input\n",
    "!aoc --version\n",
    "!aoc download -i input.txt --overwrite -p README.md --year 2022 --day 05"
   ]
  },
  {
   "cell_type": "markdown",
   "metadata": {},
   "source": [
    "# --- Day 5: Supply Stacks ---\n",
    "----------\n",
    "\n",
    "The expedition can depart as soon as the final supplies have been unloaded from the ships. Supplies are stored in stacks of marked *crates*, but because the needed supplies are buried under many other crates, the crates need to be rearranged.\n",
    "\n",
    "The ship has a *giant cargo crane* capable of moving crates between stacks. To ensure none of the crates get crushed or fall over, the crane operator will rearrange them in a series of carefully-planned steps. After the crates are rearranged, the desired crates will be at the top of each stack.\n",
    "\n",
    "The Elves don't want to interrupt the crane operator during this delicate procedure, but they forgot to ask her *which* crate will end up where, and they want to be ready to unload them as soon as possible so they can embark.\n",
    "\n",
    "They do, however, have a drawing of the starting stacks of crates *and* the rearrangement procedure (your puzzle input). For example:\n",
    "\n",
    "```\n",
    "    [D]    \n",
    "[N] [C]    \n",
    "[Z] [M] [P]\n",
    " 1   2   3\n",
    "\n",
    "move 1 from 2 to 1\n",
    "move 3 from 1 to 3\n",
    "move 2 from 2 to 1\n",
    "move 1 from 1 to 2\n",
    "\n",
    "```\n",
    "\n",
    "In this example, there are three stacks of crates. Stack 1 contains two crates: crate `Z` is on the bottom, and crate `N` is on top. Stack 2 contains three crates; from bottom to top, they are crates `M`, `C`, and `D`. Finally, stack 3 contains a single crate, `P`.\n",
    "\n",
    "Then, the rearrangement procedure is given. In each step of the procedure, a quantity of crates is moved from one stack to a different stack. In the first step of the above rearrangement procedure, one crate is moved from stack 2 to stack 1, resulting in this configuration:\n",
    "\n",
    "```\n",
    "[D]        \n",
    "[N] [C]    \n",
    "[Z] [M] [P]\n",
    " 1   2   3\n",
    "\n",
    "```\n",
    "\n",
    "In the second step, three crates are moved from stack 1 to stack 3. Crates are moved *one at a time*, so the first crate to be moved (`D`) ends up below the second and third crates:\n",
    "\n",
    "```\n",
    "        [Z]\n",
    "        [N]\n",
    "    [C] [D]\n",
    "    [M] [P]\n",
    " 1   2   3\n",
    "\n",
    "```\n",
    "\n",
    "Then, both crates are moved from stack 2 to stack 1. Again, because crates are moved *one at a time*, crate `C` ends up below crate `M`:\n",
    "\n",
    "```\n",
    "        [Z]\n",
    "        [N]\n",
    "[M]     [D]\n",
    "[C]     [P]\n",
    " 1   2   3\n",
    "\n",
    "```\n",
    "\n",
    "Finally, one crate is moved from stack 1 to stack 2:\n",
    "\n",
    "```\n",
    "        [Z]\n",
    "        [N]\n",
    "        [D]\n",
    "[C] [M] [P]\n",
    " 1   2   3\n",
    "\n",
    "```\n",
    "\n",
    "The Elves just need to know *which crate will end up on top of each stack*; in this example, the top crates are `C` in stack 1, `M` in stack 2, and `Z` in stack 3, so you should combine these together and give the Elves the message `*CMZ*`.\n",
    "\n",
    "*After the rearrangement procedure completes, what crate ends up on top of each stack?*\n"
   ]
  },
  {
   "cell_type": "code",
   "execution_count": 2,
   "metadata": {},
   "outputs": [],
   "source": [
    "with open('input.txt', 'rt') as f:\n",
    "    lines = [_.strip() for _ in f.readlines()]\n",
    "\n",
    "stack = []\n",
    "movements = []\n",
    "split = False\n",
    "for line in lines:\n",
    "        \n",
    "    if line == \"\":\n",
    "        split = True\n",
    "    elif not split:\n",
    "        stack.append(line)\n",
    "    else:\n",
    "        movements.append(line)\n"
   ]
  },
  {
   "cell_type": "code",
   "execution_count": 3,
   "metadata": {},
   "outputs": [
    {
     "data": {
      "text/plain": [
       "['[N]         [C]     [Z]',\n",
       " '[Q] [G]     [V]     [S]         [V]',\n",
       " '[L] [C]     [M]     [T]     [W] [L]',\n",
       " '[S] [H]     [L]     [C] [D] [H] [S]',\n",
       " '[C] [V] [F] [D]     [D] [B] [Q] [F]',\n",
       " '[Z] [T] [Z] [T] [C] [J] [G] [S] [Q]',\n",
       " '[P] [P] [C] [W] [W] [F] [W] [J] [C]',\n",
       " '[T] [L] [D] [G] [P] [P] [V] [N] [R]',\n",
       " '1   2   3   4   5   6   7   8   9']"
      ]
     },
     "execution_count": 3,
     "metadata": {},
     "output_type": "execute_result"
    }
   ],
   "source": [
    "# validation parse\n",
    "stack"
   ]
  },
  {
   "cell_type": "code",
   "execution_count": 4,
   "metadata": {},
   "outputs": [
    {
     "data": {
      "text/plain": [
       "['move 6 from 2 to 1',\n",
       " 'move 4 from 6 to 3',\n",
       " 'move 1 from 6 to 5',\n",
       " 'move 8 from 3 to 8',\n",
       " 'move 13 from 8 to 2',\n",
       " 'move 2 from 7 to 6']"
      ]
     },
     "execution_count": 4,
     "metadata": {},
     "output_type": "execute_result"
    }
   ],
   "source": [
    "movements[:6]"
   ]
  },
  {
   "cell_type": "code",
   "execution_count": 5,
   "metadata": {},
   "outputs": [
    {
     "name": "stdout",
     "output_type": "stream",
     "text": [
      "[['T', 'P', 'Z', 'C', 'S', 'L', 'Q', 'N'], ['L', 'P', 'T', 'V', 'H', 'C', 'G'], ['D', 'C', 'Z', 'F'], ['G', 'W', 'T', 'D', 'L', 'M', 'V', 'C'], ['P', 'W', 'C'], ['P', 'F', 'J', 'D', 'C', 'T', 'S', 'Z'], ['V', 'W', 'G', 'B', 'D'], ['N', 'J', 'S', 'Q', 'H', 'W'], ['R', 'C', 'Q', 'F', 'S', 'L', 'V']]\n"
     ]
    }
   ],
   "source": [
    "def parse_stack(lines):\n",
    "    stacks = []\n",
    "    for line in lines:\n",
    "        stack_i = 0\n",
    "        for i in range(1, len(line), 4):\n",
    "            stack_i += 1\n",
    "            if len(stacks) < stack_i:\n",
    "                stacks.append([])\n",
    "            if line[i] not in ['', ' ']:\n",
    "                stacks[int((i-1)/4)].insert(0, line[i])\n",
    "    return stacks\n",
    "\n",
    "stacks = parse_stack(stack)\n",
    "print(stacks)"
   ]
  },
  {
   "cell_type": "code",
   "execution_count": 6,
   "metadata": {},
   "outputs": [],
   "source": [
    "def perform_movement_9000(stacks, action):\n",
    "    _, count, _, from_stack, _, to_stack = action.split()\n",
    "    count = int(count)\n",
    "    from_stack = int(from_stack) - 1\n",
    "    to_stack = int(to_stack) - 1\n",
    "    #print(count, from_stack, to_stack)\n",
    "\n",
    "    for i in range(0, count):\n",
    "        box = stacks[from_stack].pop()\n",
    "        stacks[to_stack].append(box)\n",
    "    \n",
    "    return stacks\n",
    "\n",
    "#perform_movement_9000(stacks, movements[0])"
   ]
  },
  {
   "cell_type": "code",
   "execution_count": 7,
   "metadata": {},
   "outputs": [
    {
     "name": "stdout",
     "output_type": "stream",
     "text": [
      "answer 1: SVFDLGLWV\n"
     ]
    }
   ],
   "source": [
    "stacks = parse_stack(stack) \n",
    "for movement in movements:\n",
    "    stacks = perform_movement_9000(stacks, movement)\n",
    "\n",
    "print(\"answer 1:\", ''.join([s.pop() for s in stacks]))"
   ]
  },
  {
   "cell_type": "markdown",
   "metadata": {},
   "source": [
    "\\--- Part Two ---\n",
    "----------\n",
    "\n",
    "As you watch the crane operator expertly rearrange the crates, you notice the process isn't following your prediction.\n",
    "\n",
    "Some mud was covering the writing on the side of the crane, and you quickly wipe it away. The crane isn't a CrateMover 9000 - it's a *CrateMover 9001*.\n",
    "\n",
    "The CrateMover 9001 is notable for many new and exciting features: air conditioning, leather seats, an extra cup holder, and *the ability to pick up and move multiple crates at once*.\n",
    "\n",
    "Again considering the example above, the crates begin in the same configuration:\n",
    "\n",
    "```\n",
    "    [D]    \n",
    "[N] [C]    \n",
    "[Z] [M] [P]\n",
    " 1   2   3\n",
    "\n",
    "```\n",
    "\n",
    "Moving a single crate from stack 2 to stack 1 behaves the same as before:\n",
    "\n",
    "```\n",
    "[D]        \n",
    "[N] [C]    \n",
    "[Z] [M] [P]\n",
    " 1   2   3\n",
    "\n",
    "```\n",
    "\n",
    "However, the action of moving three crates from stack 1 to stack 3 means that those three moved crates *stay in the same order*, resulting in this new configuration:\n",
    "\n",
    "```\n",
    "        [D]\n",
    "        [N]\n",
    "    [C] [Z]\n",
    "    [M] [P]\n",
    " 1   2   3\n",
    "\n",
    "```\n",
    "\n",
    "Next, as both crates are moved from stack 2 to stack 1, they *retain their order* as well:\n",
    "\n",
    "```\n",
    "        [D]\n",
    "        [N]\n",
    "[C]     [Z]\n",
    "[M]     [P]\n",
    " 1   2   3\n",
    "\n",
    "```\n",
    "\n",
    "Finally, a single crate is still moved from stack 1 to stack 2, but now it's crate `C` that gets moved:\n",
    "\n",
    "```\n",
    "        [D]\n",
    "        [N]\n",
    "        [Z]\n",
    "[M] [C] [P]\n",
    " 1   2   3\n",
    "\n",
    "```\n",
    "\n",
    "In this example, the CrateMover 9001 has put the crates in a totally different order: `*MCD*`.\n",
    "\n",
    "Before the rearrangement process finishes, update your simulation so that the Elves know where they should stand to be ready to unload the final supplies. *After the rearrangement procedure completes, what crate ends up on top of each stack?*\n"
   ]
  },
  {
   "cell_type": "code",
   "execution_count": 8,
   "metadata": {},
   "outputs": [],
   "source": [
    "def perform_movement_9001(stacks, action):\n",
    "    _, count, _, from_stack, _, to_stack = action.split()\n",
    "    count = int(count)\n",
    "    from_stack = int(from_stack) - 1\n",
    "    to_stack = int(to_stack) - 1\n",
    "\n",
    "    #print(action)\n",
    "    boxes = stacks[from_stack][0-count:]\n",
    "    #print(stacks[from_stack], stacks[to_stack], boxes)\n",
    "    stacks[from_stack] = stacks[from_stack][:0-count]\n",
    "    stacks[to_stack] += (boxes)\n",
    "    #print(stacks[from_stack], stacks[to_stack])\n",
    "    \n",
    "    return stacks"
   ]
  },
  {
   "cell_type": "code",
   "execution_count": 9,
   "metadata": {},
   "outputs": [
    {
     "name": "stdout",
     "output_type": "stream",
     "text": [
      "answer 2: DCVTCVPCL\n"
     ]
    }
   ],
   "source": [
    "stacks = parse_stack(stack) \n",
    "for movement in movements:\n",
    "    stacks = perform_movement_9001(stacks, movement)\n",
    "\n",
    "print(\"answer 2:\", ''.join([s.pop() for s in stacks]))"
   ]
  }
 ],
 "metadata": {
  "kernelspec": {
   "display_name": "Python 3.8.10 64-bit",
   "language": "python",
   "name": "python3"
  },
  "language_info": {
   "codemirror_mode": {
    "name": "ipython",
    "version": 3
   },
   "file_extension": ".py",
   "mimetype": "text/x-python",
   "name": "python",
   "nbconvert_exporter": "python",
   "pygments_lexer": "ipython3",
   "version": "3.8.10"
  },
  "orig_nbformat": 4,
  "vscode": {
   "interpreter": {
    "hash": "e7370f93d1d0cde622a1f8e1c04877d8463912d04d973331ad4851f04de6915a"
   }
  }
 },
 "nbformat": 4,
 "nbformat_minor": 2
}
