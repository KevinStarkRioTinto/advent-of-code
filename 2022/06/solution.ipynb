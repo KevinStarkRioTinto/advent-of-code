{
 "cells": [
  {
   "cell_type": "code",
   "execution_count": 1,
   "metadata": {},
   "outputs": [
    {
     "name": "stdout",
     "output_type": "stream",
     "text": [
      "\u001b[0maoc-cli 0.6.0\n",
      "\u001b[0mLoaded session cookie from \"/home/kev/.adventofcode.session\".\n",
      "Fetching puzzle for day 6, 2022...\n",
      "Saving puzzle description to \"README.md\"...\n",
      "Downloading input for day 6, 2022...\n",
      "Saving puzzle input to \"input.txt\"...\n",
      "Done!\n"
     ]
    }
   ],
   "source": [
    "# Download today puzzle & input\n",
    "!aoc --version\n",
    "!aoc download -i input.txt --overwrite -p README.md --year 2022 --day 6"
   ]
  },
  {
   "cell_type": "markdown",
   "metadata": {},
   "source": [
    "\\--- Day 6: Tuning Trouble ---\n",
    "----------\n",
    "\n",
    "The preparations are finally complete; you and the Elves leave camp on foot and begin to make your way toward the *star* fruit grove.\n",
    "\n",
    "As you move through the dense undergrowth, one of the Elves gives you a handheld *device*. He says that it has many fancy features, but the most important one to set up right now is the *communication system*.\n",
    "\n",
    "However, because he's heard you have [significant](/2016/day/6) [experience](/2016/day/25) [dealing](/2019/day/7) [with](/2019/day/9) [signal-based](/2019/day/16) [systems](/2021/day/25), he convinced the other Elves that it would be okay to give you their one malfunctioning device - surely you'll have no problem fixing it.\n",
    "\n",
    "As if inspired by comedic timing, the device emits a few colorful sparks.\n",
    "\n",
    "To be able to communicate with the Elves, the device needs to *lock on to their signal*. The signal is a series of seemingly-random characters that the device receives one at a time.\n",
    "\n",
    "To fix the communication system, you need to add a subroutine to the device that detects a *start-of-packet marker* in the datastream. In the protocol being used by the Elves, the start of a packet is indicated by a sequence of *four characters that are all different*.\n",
    "\n",
    "The device will send your subroutine a datastream buffer (your puzzle input); your subroutine needs to identify the first position where the four most recently received characters were all different. Specifically, it needs to report the number of characters from the beginning of the buffer to the end of the first such four-character marker.\n",
    "\n",
    "For example, suppose you receive the following datastream buffer:\n",
    "\n",
    "```\n",
    "mjqjpqmgbljsphdztnvjfqwrcgsmlb\n",
    "```\n",
    "\n",
    "After the first three characters (`mjq`) have been received, there haven't been enough characters received yet to find the marker. The first time a marker could occur is after the fourth character is received, making the most recent four characters `mjqj`. Because `j` is repeated, this isn't a marker.\n",
    "\n",
    "The first time a marker appears is after the *seventh* character arrives. Once it does, the last four characters received are `jpqm`, which are all different. In this case, your subroutine should report the value `*7*`, because the first start-of-packet marker is complete after 7 characters have been processed.\n",
    "\n",
    "Here are a few more examples:\n",
    "\n",
    "* `bvwbjplbgvbhsrlpgdmjqwftvncz`: first marker after character `*5*`\n",
    "* `nppdvjthqldpwncqszvftbrmjlhg`: first marker after character `*6*`\n",
    "* `nznrnfrfntjfmvfwmzdfjlvtqnbhcprsg`: first marker after character `*10*`\n",
    "* `zcfzfwzzqfrljwzlrfnpqdbhtmscgvjw`: first marker after character `*11*`\n",
    "\n",
    "*How many characters need to be processed before the first start-of-packet marker is detected?*\n"
   ]
  },
  {
   "cell_type": "code",
   "execution_count": 2,
   "metadata": {},
   "outputs": [
    {
     "name": "stdout",
     "output_type": "stream",
     "text": [
      "'rvnvzvhzzjgjgffclllnhhtltptgptgpttjhttsllmbbphbpbzpbpjjcwjwq'\n"
     ]
    }
   ],
   "source": [
    "from pprint import pprint\n",
    "\n",
    "with open('input.txt', 'rt') as f:\n",
    "    stream = f.readline().strip()\n",
    "\n",
    "# Verify parse\n",
    "\n",
    "pprint(stream[:60])"
   ]
  },
  {
   "cell_type": "code",
   "execution_count": 3,
   "metadata": {},
   "outputs": [
    {
     "name": "stdout",
     "output_type": "stream",
     "text": [
      "1343 ['q', 'w', 'h', 'd']\n"
     ]
    }
   ],
   "source": [
    "MARKER_LENGTH = 4\n",
    "for i in range(MARKER_LENGTH, len(stream)):\n",
    "    sequence = list(stream[i-MARKER_LENGTH:i])\n",
    "    if len(set(sequence)) == MARKER_LENGTH:\n",
    "        answer1 = i\n",
    "        break\n",
    "\n",
    "print(i, list(stream[i-MARKER_LENGTH:i]))"
   ]
  },
  {
   "cell_type": "code",
   "execution_count": 4,
   "metadata": {},
   "outputs": [
    {
     "name": "stdout",
     "output_type": "stream",
     "text": [
      "answer 1: 1343\n"
     ]
    }
   ],
   "source": [
    "print(\"answer 1:\", answer1)"
   ]
  },
  {
   "cell_type": "code",
   "execution_count": 5,
   "metadata": {},
   "outputs": [
    {
     "name": "stdout",
     "output_type": "stream",
     "text": [
      "Loaded session cookie from \"/home/kev/.adventofcode.session\".\n",
      "Fetching puzzle for day 6, 2022...\n",
      "Saving puzzle description to \"README.md\"...\n",
      "Done!\n"
     ]
    }
   ],
   "source": [
    "# Download part 2\n",
    "!aoc download --description-only --overwrite --puzzle-file README.md --year 2022 --day 6"
   ]
  },
  {
   "cell_type": "markdown",
   "metadata": {},
   "source": [
    "\\--- Part Two ---\n",
    "----------\n",
    "\n",
    "Your device's communication system is correctly detecting packets, but still isn't working. It looks like it also needs to look for *messages*.\n",
    "\n",
    "A *start-of-message marker* is just like a start-of-packet marker, except it consists of *14 distinct characters* rather than 4.\n",
    "\n",
    "Here are the first positions of start-of-message markers for all of the above examples:\n",
    "\n",
    "* `mjqjpqmgbljsphdztnvjfqwrcgsmlb`: first marker after character `*19*`\n",
    "* `bvwbjplbgvbhsrlpgdmjqwftvncz`: first marker after character `*23*`\n",
    "* `nppdvjthqldpwncqszvftbrmjlhg`: first marker after character `*23*`\n",
    "* `nznrnfrfntjfmvfwmzdfjlvtqnbhcprsg`: first marker after character `*29*`\n",
    "* `zcfzfwzzqfrljwzlrfnpqdbhtmscgvjw`: first marker after character `*26*`\n",
    "\n",
    "*How many characters need to be processed before the first start-of-message marker is detected?*"
   ]
  },
  {
   "cell_type": "code",
   "execution_count": 6,
   "metadata": {},
   "outputs": [
    {
     "name": "stdout",
     "output_type": "stream",
     "text": [
      "2193 ['t', 'h', 'm', 'd', 'z', 'j', 'c', 'f', 'l', 'w', 'p', 'n', 'r', 's']\n"
     ]
    }
   ],
   "source": [
    "MARKER_LENGTH = 14\n",
    "for i in range(MARKER_LENGTH, len(stream)):\n",
    "    sequence = list(stream[i-MARKER_LENGTH:i])\n",
    "    if len(set(sequence)) == MARKER_LENGTH:\n",
    "        answer2 = i\n",
    "        break\n",
    "\n",
    "print(i, list(stream[i-MARKER_LENGTH:i]))"
   ]
  },
  {
   "cell_type": "code",
   "execution_count": 7,
   "metadata": {},
   "outputs": [
    {
     "name": "stdout",
     "output_type": "stream",
     "text": [
      "answer 2: 2193\n"
     ]
    }
   ],
   "source": [
    "print(\"answer 2:\", answer2)"
   ]
  }
 ],
 "metadata": {
  "kernelspec": {
   "display_name": "Python 3.8.10 64-bit",
   "language": "python",
   "name": "python3"
  },
  "language_info": {
   "codemirror_mode": {
    "name": "ipython",
    "version": 3
   },
   "file_extension": ".py",
   "mimetype": "text/x-python",
   "name": "python",
   "nbconvert_exporter": "python",
   "pygments_lexer": "ipython3",
   "version": "3.8.10"
  },
  "orig_nbformat": 4,
  "vscode": {
   "interpreter": {
    "hash": "e7370f93d1d0cde622a1f8e1c04877d8463912d04d973331ad4851f04de6915a"
   }
  }
 },
 "nbformat": 4,
 "nbformat_minor": 2
}
